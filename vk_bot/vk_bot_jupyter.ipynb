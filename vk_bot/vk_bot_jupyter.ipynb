{
 "cells": [
  {
   "cell_type": "markdown",
   "metadata": {
    "collapsed": true
   },
   "source": [
    "# VK-бот"
   ]
  },
  {
   "cell_type": "markdown",
   "metadata": {},
   "source": [
    "В целом VK-боты устроены по такому же принципу, что и боты в телеграме - они посылают запросы на сервер и когда поступает какой-то сигнал, они его получают и обрабатываются вашим кодом, например, можно ответить на сообщение или что-то сохранить. Вконтакте имеет два типа ботов, мы будет делать бота, который отвечает в лс от лица сообщества.\n",
    "\n",
    "\n",
    "Конспект создан под влиянием двух постов с хабра ([вот](https://habr.com/ru/post/427691/) и [вот](https://habr.com/ru/post/428507/)), дока про сообщения ([вот](https://vk.com/dev/messages.send)) и документации пакетов для марковских цепец ([вот](https://github.com/jsvine/markovify)) и вк апи ([вот](https://github.com/python273/vk_api))"
   ]
  },
  {
   "cell_type": "markdown",
   "metadata": {},
   "source": [
    "### Шаг 1. Создаем сообщество для бота\n",
    "\n",
    "<img src=\"./pics/1_create_group.png\"  style=\"width: 70%\">\n",
    "<img src=\"./pics/2_create_group_choose.png\" style=\"width: 70%\">\n",
    "<img src=\"./pics/3_manage_groups.png\" style=\"width: 70%\">\n",
    "<img src=\"./pics/4_new_group.png\" style=\"width: 70%\">"
   ]
  },
  {
   "cell_type": "markdown",
   "metadata": {},
   "source": [
    "### Шаг 2. Получаем токен и настраиваем API\n",
    "\n",
    "\n",
    "Заходим в раздел API\n",
    "\n",
    "<img src=\"./pics/5_set_api.png\"  style=\"width: 70%\">\n",
    "\n",
    "\n",
    "Включаем доступы\n",
    "\n",
    "\n",
    "<img src=\"./pics/6_set_api_2.png\" style=\"width: 70%\">\n",
    "\n",
    "\n",
    "Авторизуемся для токена - нужен номер телефона или приложение на телефоне.\n",
    "\n",
    "\n",
    "<img src=\"./pics/7_auth.png\" style=\"width: 70%\">\n",
    "\n",
    "\n",
    "Вот наш токен\n",
    "\n",
    "\n",
    "<img src=\"./pics/8_token.png\" style=\"width: 70%\">\n",
    "\n",
    "\n",
    "Включаем LongPoll API\n",
    "\n",
    "\n",
    "<img src=\"./pics/9_logpoll.png\" style=\"width: 70%\">\n",
    "\n",
    "\n",
    "Включаем доступы\n",
    "\n",
    "\n",
    "<img src=\"./pics/10_set_access.png\" style=\"width: 70%\">"
   ]
  },
  {
   "cell_type": "markdown",
   "metadata": {},
   "source": [
    "### Шаг 3. Устанавливаем пакет для работы с API"
   ]
  },
  {
   "cell_type": "code",
   "execution_count": null,
   "metadata": {},
   "outputs": [],
   "source": [
    "! pip2 install vk_api"
   ]
  },
  {
   "cell_type": "markdown",
   "metadata": {},
   "source": [
    "### Начинаем писать бота\n",
    "\n",
    "(Pycharm). Заводим файл ```conf.py``` (или другое логичное название), где будут лежать данные про наше приложение, а именно айди группы (без минуса, просто число) и токен."
   ]
  },
  {
   "cell_type": "code",
   "execution_count": null,
   "metadata": {},
   "outputs": [],
   "source": [
    "from vk_api import VkUpload, VkApi\n",
    "from vk_api.bot_longpoll import VkBotLongPoll, VkBotEventType\n",
    "from conf import TOKEN, GROUP_ID"
   ]
  },
  {
   "cell_type": "markdown",
   "metadata": {},
   "source": [
    "Сессия апи и авторизацией через токен, она используется другими сервисами"
   ]
  },
  {
   "cell_type": "code",
   "execution_count": null,
   "metadata": {},
   "outputs": [],
   "source": [
    "vk_session = VkApi(token=TOKEN)"
   ]
  },
  {
   "cell_type": "markdown",
   "metadata": {},
   "source": [
    "Сервис запросов, который проверяет, не пришло ли нам что-то"
   ]
  },
  {
   "cell_type": "code",
   "execution_count": null,
   "metadata": {},
   "outputs": [],
   "source": [
    "long_poll = VkBotLongPoll(vk_session, GROUP_ID)"
   ]
  },
  {
   "cell_type": "markdown",
   "metadata": {},
   "source": [
    "Еще один объект, который позволит вызывать разные методы из VK API. Например, отправлять сообщения. "
   ]
  },
  {
   "cell_type": "code",
   "execution_count": null,
   "metadata": {},
   "outputs": [],
   "source": [
    "vk = vk_session.get_api()"
   ]
  },
  {
   "cell_type": "markdown",
   "metadata": {},
   "source": [
    "Загрузка объектов в вк. Понадобится для отправки картинок"
   ]
  },
  {
   "cell_type": "code",
   "execution_count": null,
   "metadata": {},
   "outputs": [],
   "source": [
    "upload = VkUpload(vk_session)"
   ]
  },
  {
   "cell_type": "markdown",
   "metadata": {},
   "source": [
    "Можно просто запустить такой цикл и он будет выполняться постоянн и ждать сообщений от сервера. Например, можно реагировать на отклик типа \"новое сообщение\" "
   ]
  },
  {
   "cell_type": "code",
   "execution_count": null,
   "metadata": {},
   "outputs": [],
   "source": [
    "for event in long_poll.listen():\n",
    "    if event.type == VkBotEventType.MESSAGE_NEW:\n",
    "        # DO SMTH"
   ]
  },
  {
   "cell_type": "markdown",
   "metadata": {},
   "source": [
    "### Отвечаем на сообщения\n",
    "\n",
    "Чтобы отправить ответ на сообщение пользователя, нужно несколько условий:\n",
    "\n",
    "- достать айди пользователя\n",
    "- сгенерировать уникальное число (требование такое, чтобы не повторялись запросы)\n",
    "- вызвать нужный метод"
   ]
  },
  {
   "cell_type": "code",
   "execution_count": 1,
   "metadata": {},
   "outputs": [],
   "source": [
    "import random"
   ]
  },
  {
   "cell_type": "code",
   "execution_count": 2,
   "metadata": {},
   "outputs": [
    {
     "data": {
      "text/plain": [
       "191393640470370"
      ]
     },
     "execution_count": 2,
     "metadata": {},
     "output_type": "execute_result"
    }
   ],
   "source": [
    "random.getrandbits(50)"
   ]
  },
  {
   "cell_type": "code",
   "execution_count": null,
   "metadata": {},
   "outputs": [],
   "source": [
    "vk.messages.send(\n",
    "    user_id=event.obj.from_id, \n",
    "    random_id=random.getrandbits(50),\n",
    "    message=\"здесь могла быть ваша реклама\"\n",
    ")"
   ]
  },
  {
   "cell_type": "code",
   "execution_count": null,
   "metadata": {},
   "outputs": [],
   "source": [
    "for event in long_poll.listen():\n",
    "    if event.type == VkBotEventType.MESSAGE_NEW:\n",
    "        vk.messages.send(\n",
    "            user_id=event.obj.from_id, \n",
    "            random_id=random.getrandbits(50),\n",
    "            message=\"я вас услышал\"\n",
    "        )"
   ]
  },
  {
   "cell_type": "markdown",
   "metadata": {},
   "source": [
    "### Котики (и не только)\n",
    "\n",
    "Скачиваем случайные изображения как на прошлой паре"
   ]
  },
  {
   "cell_type": "code",
   "execution_count": null,
   "metadata": {},
   "outputs": [],
   "source": [
    "import requests\n",
    "\n",
    "def get_dog_image():\n",
    "    contents = requests.get('https://random.dog/woof.json').json()\n",
    "    url = contents['url']\n",
    "    image = requests.get(url, stream=True, timeout=2)\n",
    "    return image\n",
    "\n",
    "def get_cat_image():\n",
    "    contents = requests.get('https://aws.random.cat/meow').json()\n",
    "    url = contents['file']\n",
    "    image = requests.get(url, stream=True, timeout=2)\n",
    "    return image"
   ]
  },
  {
   "cell_type": "markdown",
   "metadata": {},
   "source": [
    "Загружаем в вк, чтобы иметь возможность прислать кому-то. Возвращает конструкцию типа ```photo123124_121241241```, где первое число - айди владельца, а второе - айди картинки"
   ]
  },
  {
   "cell_type": "code",
   "execution_count": null,
   "metadata": {},
   "outputs": [],
   "source": [
    "def upload_image(upload, image):\n",
    "    photo = upload.photo_messages(photos=image.raw)[0]\n",
    "    return f\"photo{photo['owner_id']}_{photo['id']}\""
   ]
  },
  {
   "cell_type": "code",
   "execution_count": null,
   "metadata": {},
   "outputs": [],
   "source": [
    "for event in long_poll.listen():\n",
    "    if event.type == VkBotEventType.MESSAGE_NEW:\n",
    "        image = get_cat_image()\n",
    "        photo = upload_image(upload, image)\n",
    "        vk.messages.send(\n",
    "            user_id=event.obj.from_id, \n",
    "            random_id=random.getrandbits(50),\n",
    "            message='держите кота', \n",
    "            attachment=photo\n",
    "        )"
   ]
  },
  {
   "cell_type": "markdown",
   "metadata": {},
   "source": [
    "### Толстой\n",
    "\n",
    "Мы упоминали генерацию случайного текста с помощью марковской цепи, можно ее обучить и использовать вот так:"
   ]
  },
  {
   "cell_type": "code",
   "execution_count": 11,
   "metadata": {},
   "outputs": [],
   "source": [
    "import markovify"
   ]
  },
  {
   "cell_type": "code",
   "execution_count": 3,
   "metadata": {},
   "outputs": [],
   "source": [
    "corpus = open(\"/home/dkbrz/Downloads/voina-i-mir.txt\").read()"
   ]
  },
  {
   "cell_type": "code",
   "execution_count": 14,
   "metadata": {},
   "outputs": [],
   "source": [
    "text_model = markovify.Text(corpus, state_size=3)"
   ]
  },
  {
   "cell_type": "markdown",
   "metadata": {},
   "source": [
    "Сохраняем"
   ]
  },
  {
   "cell_type": "code",
   "execution_count": 15,
   "metadata": {},
   "outputs": [],
   "source": [
    "model_json = text_model.to_json()"
   ]
  },
  {
   "cell_type": "code",
   "execution_count": 16,
   "metadata": {},
   "outputs": [
    {
     "data": {
      "text/plain": [
       "'{\"state_size\": 3, \"chain\": \"[[[\\\\\"___BEGIN__\\\\\", \\\\\"___BEGIN__\\\\\", \\\\\"___BEGIN__\\\\\"], {\\\\\"\\\\\\\\u041b\\\\\\\\u0435\\\\\\\\u'"
      ]
     },
     "execution_count": 16,
     "metadata": {},
     "output_type": "execute_result"
    }
   ],
   "source": [
    "model_json[:100]"
   ]
  },
  {
   "cell_type": "code",
   "execution_count": 17,
   "metadata": {},
   "outputs": [],
   "source": [
    "with open('mark_model.json', 'w') as f:\n",
    "    f.write(model_json)"
   ]
  },
  {
   "cell_type": "markdown",
   "metadata": {},
   "source": [
    "Считываем и подгружаем"
   ]
  },
  {
   "cell_type": "code",
   "execution_count": 18,
   "metadata": {},
   "outputs": [],
   "source": [
    "model_json = open('mark_model.json').read()"
   ]
  },
  {
   "cell_type": "code",
   "execution_count": 20,
   "metadata": {},
   "outputs": [
    {
     "data": {
      "text/plain": [
       "'Поговорив несколько времени в общем кругу, Сперанский встал и, подойдя к телеге, на которой была до приезда государя довольно сильная перестрелка, лежало несколько человек убитых и раненых, которые, казалось ему, ловят его за ноги.'"
      ]
     },
     "execution_count": 20,
     "metadata": {},
     "output_type": "execute_result"
    }
   ],
   "source": [
    "model = markovify.Text.from_json(model_json)\n",
    "model.make_short_sentence(280)"
   ]
  },
  {
   "cell_type": "markdown",
   "metadata": {},
   "source": [
    "### Бот в целом\n",
    "\n",
    "Хорошо бы все обернуть в функции и даже вынести в отдельный файл все вспомогательные. И обрабатывать ошибки. Первая - это таймаут на скачивание картинки, чтобы не ждать миллион лет. Вторая - для всего остального..."
   ]
  },
  {
   "cell_type": "code",
   "execution_count": null,
   "metadata": {},
   "outputs": [],
   "source": [
    "def send_tolstoy(event):\n",
    "    text = tolstoy.make_short_sentence(280)\n",
    "    vk.messages.send(\n",
    "        user_id=event.obj.from_id, \n",
    "        random_id=random.getrandbits(50),\n",
    "        message=text\n",
    "    )\n",
    "\n",
    "def handle_new_message(event):\n",
    "    if 'DOG' in event.obj.text:\n",
    "        send_pet(event, kind='dog')\n",
    "    elif 'CAT' in event.obj.text:\n",
    "        send_pet(event, kind='cat')\n",
    "    else:\n",
    "        send_tolstoy(event)\n",
    "\n",
    "def new_message_timeout_error(event):\n",
    "    vk.messages.send(\n",
    "        user_id=event.obj.from_id, \n",
    "        random_id=random.getrandbits(50),\n",
    "        message=\"у меня интернет не очень и не успеваю качать картинки : (\"\n",
    "    )\n",
    "\n",
    "def new_message_error(event):\n",
    "    vk.messages.send(\n",
    "        user_id=event.obj.from_id, \n",
    "        random_id=random.getrandbits(50),\n",
    "        message=\"у меня что-то сломалось, давайте еще раз попробуем\"\n",
    "    )\n",
    "\n",
    "\n",
    "def main():\n",
    "    for event in long_poll.listen():\n",
    "        if event.type == VkBotEventType.MESSAGE_NEW:\n",
    "            try:\n",
    "                handle_new_message(event)\n",
    "            except TimeoutError:\n",
    "                new_message_timeout_error(event)\n",
    "            except:\n",
    "                new_message_error(event)\n",
    "\n",
    "if __name__ == '__main__':\n",
    "    main()"
   ]
  },
  {
   "cell_type": "markdown",
   "metadata": {},
   "source": [
    "Полный вариант смотрите в папке ([вот тут](https://github.com/hse-python-2nd-2019/seminars/tree/master/vk_bot))"
   ]
  },
  {
   "cell_type": "markdown",
   "metadata": {},
   "source": [
    "## Запускаем и тестируем!"
   ]
  }
 ],
 "metadata": {
  "kernelspec": {
   "display_name": "Python 3",
   "language": "python",
   "name": "python3"
  },
  "language_info": {
   "codemirror_mode": {
    "name": "ipython",
    "version": 3
   },
   "file_extension": ".py",
   "mimetype": "text/x-python",
   "name": "python",
   "nbconvert_exporter": "python",
   "pygments_lexer": "ipython3",
   "version": "3.6.9"
  },
  "pycharm": {
   "stem_cell": {
    "cell_type": "raw",
    "metadata": {
     "collapsed": false
    },
    "source": []
   }
  }
 },
 "nbformat": 4,
 "nbformat_minor": 1
}
