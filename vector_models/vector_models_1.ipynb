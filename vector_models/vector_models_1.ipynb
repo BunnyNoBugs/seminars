{
 "cells": [
  {
   "cell_type": "markdown",
   "metadata": {},
   "source": [
    "# Word2Vec\n",
    "\n",
    "**План:**\n",
    "\n",
    "1. дистрибутивная семантика\n",
    "2. область применения\n",
    "3. w2v, fasttext\n",
    "4. обучение своей модели\n",
    "5. виды подачи данных\n",
    "6. использовать готовую\n",
    "7. методы оценки качества"
   ]
  }
 ],
 "metadata": {
  "kernelspec": {
   "display_name": "Python 3",
   "language": "python",
   "name": "python3"
  },
  "language_info": {
   "codemirror_mode": {
    "name": "ipython",
    "version": 3
   },
   "file_extension": ".py",
   "mimetype": "text/x-python",
   "name": "python",
   "nbconvert_exporter": "python",
   "pygments_lexer": "ipython3",
   "version": "3.6.8"
  }
 },
 "nbformat": 4,
 "nbformat_minor": 2
}
