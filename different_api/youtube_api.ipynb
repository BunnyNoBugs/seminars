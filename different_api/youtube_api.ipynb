{
 "cells": [
  {
   "cell_type": "markdown",
   "metadata": {},
   "source": [
    "# YouTube API"
   ]
  },
  {
   "cell_type": "markdown",
   "metadata": {},
   "source": [
    "## Шаг 1. Регистрация\n",
    "\n",
    "Для доступа к апи нужна авторизация и доступ, так как имеются квоты и ограничения доступа к разным элементам. Для работы необходим аккаунт гугл и завести приложение (с данными для аутентификации типа токена), чтобы отправлять авторизаованные запросы. Инструкция [вот здесь](https://developers.google.com/youtube/registering_an_application)."
   ]
  },
  {
   "cell_type": "markdown",
   "metadata": {},
   "source": [
    "**Создаем проект**\n",
    "<img src=\"./yt_pics/yt_1.png\"></img>"
   ]
  },
  {
   "cell_type": "markdown",
   "metadata": {},
   "source": [
    "**Теперь он должен выглядеть как-то вот так**\n",
    "<img src=\"./yt_pics/yt_2.png\"></img>"
   ]
  },
  {
   "cell_type": "markdown",
   "metadata": {},
   "source": [
    "**Теперь настроим доступы**\n",
    "<img src=\"./yt_pics/yt_3.png\"></img>"
   ]
  },
  {
   "cell_type": "markdown",
   "metadata": {},
   "source": [
    "**И создадим аутентификатор**\n",
    "<img src=\"./yt_pics/yt_5.png\"></img>\n",
    "<img src=\"./yt_pics/yt_4.png\"></img>"
   ]
  },
  {
   "cell_type": "markdown",
   "metadata": {},
   "source": [
    "**Вот так выглядит успех**\n",
    "<img src=\"./yt_pics/yt_6.png\"></img>"
   ]
  },
  {
   "cell_type": "markdown",
   "metadata": {},
   "source": [
    "Если закрыть это окно, можно скачать json-файл с параметрами для аутентифткации\n",
    "\n",
    "Теперь нужно еще подключить в библиотеке Y**ouTube Data API v3** для нашей работы"
   ]
  },
  {
   "cell_type": "code",
   "execution_count": 44,
   "metadata": {},
   "outputs": [],
   "source": [
    "# ! pip3 install --upgrade google-api-python-client\n",
    "# ! pip3 install google_auth_oauthlib"
   ]
  },
  {
   "cell_type": "code",
   "execution_count": null,
   "metadata": {},
   "outputs": [],
   "source": []
  },
  {
   "cell_type": "code",
   "execution_count": null,
   "metadata": {},
   "outputs": [],
   "source": [
    "YT data api включить"
   ]
  },
  {
   "cell_type": "code",
   "execution_count": null,
   "metadata": {},
   "outputs": [],
   "source": [
    "https://github.com/youtube/api-samples/tree/master/python"
   ]
  },
  {
   "cell_type": "code",
   "execution_count": 1,
   "metadata": {},
   "outputs": [],
   "source": [
    "import os\n",
    "from pprint import pprint\n",
    "import google_auth_oauthlib.flow\n",
    "import googleapiclient.discovery\n",
    "import googleapiclient.errors"
   ]
  },
  {
   "cell_type": "code",
   "execution_count": 2,
   "metadata": {},
   "outputs": [],
   "source": [
    "client_secrets_file = \"client_secret.json.json\""
   ]
  },
  {
   "cell_type": "code",
   "execution_count": 3,
   "metadata": {},
   "outputs": [],
   "source": [
    "scopes = [\"https://www.googleapis.com/auth/youtube.readonly\", 'https://www.googleapis.com/auth/youtube.force-ssl']"
   ]
  },
  {
   "cell_type": "code",
   "execution_count": 4,
   "metadata": {},
   "outputs": [],
   "source": [
    "os.environ[\"OAUTHLIB_INSECURE_TRANSPORT\"] = \"1\""
   ]
  },
  {
   "cell_type": "code",
   "execution_count": 5,
   "metadata": {},
   "outputs": [
    {
     "name": "stdout",
     "output_type": "stream",
     "text": [
      "Please visit this URL to authorize this application: https://accounts.google.com/o/oauth2/auth?response_type=code&client_id=484723214532-i5uoln2phvcbr9mublt1mj7ihsbdfnod.apps.googleusercontent.com&redirect_uri=urn%3Aietf%3Awg%3Aoauth%3A2.0%3Aoob&scope=https%3A%2F%2Fwww.googleapis.com%2Fauth%2Fyoutube.readonly+https%3A%2F%2Fwww.googleapis.com%2Fauth%2Fyoutube.force-ssl&state=axwyJMV68CpJdiq7U1WmbRPyJPH5NQ&prompt=consent&access_type=offline\n",
      "Enter the authorization code: 4/yQFdPjSUuy3JaNcomIXyfrGqqoebFHB7xFKT1gFOofTqFrqZdEkEoI4\n"
     ]
    }
   ],
   "source": [
    "api_service_name = \"youtube\"\n",
    "api_version = \"v3\"\n",
    "client_secrets_file = \"client_secret.json\"\n",
    "\n",
    "flow = google_auth_oauthlib.flow.InstalledAppFlow.from_client_secrets_file(client_secrets_file, scopes)\n",
    "credentials = flow.run_console()\n",
    "youtube = googleapiclient.discovery.build(api_service_name, api_version, credentials=credentials)"
   ]
  },
  {
   "cell_type": "code",
   "execution_count": 6,
   "metadata": {},
   "outputs": [],
   "source": [
    "request = youtube.channels().list(\n",
    "    part=\"contentDetails\",\n",
    "    id=\"UCfbKC4afdT60qQxs0-TxhDA\"\n",
    ")\n",
    "response = request.execute()"
   ]
  },
  {
   "cell_type": "code",
   "execution_count": 7,
   "metadata": {},
   "outputs": [
    {
     "name": "stdout",
     "output_type": "stream",
     "text": [
      "{'etag': '\"xwzn9fn_LczrfK9QS3iZcGzqRGs/8EGLu7Sw-6RYW-zavbHK7Vg5KkM\"',\n",
      " 'items': [{'contentDetails': {'relatedPlaylists': {'likes': 'LLfbKC4afdT60qQxs0-TxhDA',\n",
      "                                                    'uploads': 'UUfbKC4afdT60qQxs0-TxhDA',\n",
      "                                                    'watchHistory': 'HL',\n",
      "                                                    'watchLater': 'WL'}},\n",
      "            'etag': '\"xwzn9fn_LczrfK9QS3iZcGzqRGs/iSufcgjzIXC-B2kEqUZSeAnJ2FY\"',\n",
      "            'id': 'UCfbKC4afdT60qQxs0-TxhDA',\n",
      "            'kind': 'youtube#channel'}],\n",
      " 'kind': 'youtube#channelListResponse',\n",
      " 'pageInfo': {'resultsPerPage': 1, 'totalResults': 1}}\n"
     ]
    }
   ],
   "source": [
    "pprint(response)"
   ]
  },
  {
   "cell_type": "code",
   "execution_count": 59,
   "metadata": {},
   "outputs": [
    {
     "name": "stdout",
     "output_type": "stream",
     "text": [
      "{'etag': '\"ksCrgYQhtFrXgbHAhi9Fo5t0C2I/urRz9tgbY1xOegNKnP3ly6xz7B4\"',\n",
      " 'items': [{'etag': '\"ksCrgYQhtFrXgbHAhi9Fo5t0C2I/WQexvlcjkr3RcZcDwCZlS_6nvxg\"',\n",
      "            'id': 'UCfbKC4afdT60qQxs0-TxhDA',\n",
      "            'kind': 'youtube#channel',\n",
      "            'snippet': {'country': 'RU',\n",
      "                        'customUrl': 'мамаотличника',\n",
      "                        'description': 'Доброе утро, Девочки! Я МАМА ОТЛИЧНИКА '\n",
      "                                       '! На своем канале я показываю жизнь '\n",
      "                                       'женщины из России на пенсии. '\n",
      "                                       'Рассказываю о своих путешествиях, '\n",
      "                                       'украшениях, об уходе за домом, моих '\n",
      "                                       'покупках одежды, любимой еде и многом '\n",
      "                                       'другом ! Так же я откровенно '\n",
      "                                       'рассказываю о семейных отношениях '\n",
      "                                       'внутри семьи, о жизни с мужем '\n",
      "                                       'пенсионером, об отношениях с сыном '\n",
      "                                       'школьником, о наших ссорах, счастливых '\n",
      "                                       'моментах и о моей новой жизни отдельно '\n",
      "                                       'от мужа, но без развода.',\n",
      "                        'localized': {'description': 'Доброе утро, Девочки! Я '\n",
      "                                                     'МАМА ОТЛИЧНИКА ! На '\n",
      "                                                     'своем канале я показываю '\n",
      "                                                     'жизнь женщины из России '\n",
      "                                                     'на пенсии. Рассказываю о '\n",
      "                                                     'своих путешествиях, '\n",
      "                                                     'украшениях, об уходе за '\n",
      "                                                     'домом, моих покупках '\n",
      "                                                     'одежды, любимой еде и '\n",
      "                                                     'многом другом ! Так же я '\n",
      "                                                     'откровенно рассказываю о '\n",
      "                                                     'семейных отношениях '\n",
      "                                                     'внутри семьи, о жизни с '\n",
      "                                                     'мужем пенсионером, об '\n",
      "                                                     'отношениях с сыном '\n",
      "                                                     'школьником, о наших '\n",
      "                                                     'ссорах, счастливых '\n",
      "                                                     'моментах и о моей новой '\n",
      "                                                     'жизни отдельно от мужа, '\n",
      "                                                     'но без развода.',\n",
      "                                      'title': 'МАМА Отличника'},\n",
      "                        'publishedAt': '2015-04-13T08:21:22.000Z',\n",
      "                        'thumbnails': {'default': {'height': 88,\n",
      "                                                   'url': 'https://yt3.ggpht.com/a/AATXAJzqDQO1nTG3SJhc6616dRNjJ4nkKCYPv0hmpQ=s88-c-k-c0xffffffff-no-rj-mo',\n",
      "                                                   'width': 88},\n",
      "                                       'high': {'height': 800,\n",
      "                                                'url': 'https://yt3.ggpht.com/a/AATXAJzqDQO1nTG3SJhc6616dRNjJ4nkKCYPv0hmpQ=s800-c-k-c0xffffffff-no-rj-mo',\n",
      "                                                'width': 800},\n",
      "                                       'medium': {'height': 240,\n",
      "                                                  'url': 'https://yt3.ggpht.com/a/AATXAJzqDQO1nTG3SJhc6616dRNjJ4nkKCYPv0hmpQ=s240-c-k-c0xffffffff-no-rj-mo',\n",
      "                                                  'width': 240}},\n",
      "                        'title': 'МАМА Отличника'}}],\n",
      " 'kind': 'youtube#channelListResponse',\n",
      " 'pageInfo': {'resultsPerPage': 1, 'totalResults': 1}}\n"
     ]
    }
   ],
   "source": [
    "request = youtube.channels().list(\n",
    "    part=\"snippet\",\n",
    "    id=\"UCfbKC4afdT60qQxs0-TxhDA\"\n",
    ")\n",
    "response = request.execute()\n",
    "pprint(response)"
   ]
  },
  {
   "cell_type": "code",
   "execution_count": 60,
   "metadata": {},
   "outputs": [
    {
     "name": "stdout",
     "output_type": "stream",
     "text": [
      "{'etag': '\"ksCrgYQhtFrXgbHAhi9Fo5t0C2I/j13t8yG0p1Ydsd7gYBHurTtwqdI\"',\n",
      " 'items': [{'etag': '\"ksCrgYQhtFrXgbHAhi9Fo5t0C2I/qLhTXdGt7u_4SiQs6QxBvMkW8LE\"',\n",
      "            'id': 'UCfbKC4afdT60qQxs0-TxhDA',\n",
      "            'kind': 'youtube#channel',\n",
      "            'statistics': {'commentCount': '0',\n",
      "                           'hiddenSubscriberCount': False,\n",
      "                           'subscriberCount': '556000',\n",
      "                           'videoCount': '603',\n",
      "                           'viewCount': '97119501'}}],\n",
      " 'kind': 'youtube#channelListResponse',\n",
      " 'pageInfo': {'resultsPerPage': 1, 'totalResults': 1}}\n"
     ]
    }
   ],
   "source": [
    "request = youtube.channels().list(\n",
    "    part=\"statistics\",\n",
    "    id=\"UCfbKC4afdT60qQxs0-TxhDA\"\n",
    ")\n",
    "response = request.execute()\n",
    "pprint(response)"
   ]
  },
  {
   "cell_type": "code",
   "execution_count": 62,
   "metadata": {},
   "outputs": [],
   "source": [
    "# request = youtube.channels().list(\n",
    "#     part=\"topicDetails\",\n",
    "#     id=\"UCfbKC4afdT60qQxs0-TxhDA\"\n",
    "# )\n",
    "# response = request.execute()\n",
    "# pprint(response)"
   ]
  },
  {
   "cell_type": "code",
   "execution_count": 19,
   "metadata": {},
   "outputs": [],
   "source": [
    "request = youtube.playlists().list(\n",
    "    part=\"contentDetails\",\n",
    "    channelId=\"UCfbKC4afdT60qQxs0-TxhDA\",\n",
    "    maxResults=50\n",
    ")\n",
    "response = request.execute()  "
   ]
  },
  {
   "cell_type": "code",
   "execution_count": 22,
   "metadata": {},
   "outputs": [
    {
     "name": "stdout",
     "output_type": "stream",
     "text": [
      "{'etag': '\"ksCrgYQhtFrXgbHAhi9Fo5t0C2I/YassEUZgmEp-3moGAoEC4O7wfwc\"',\n",
      " 'items': [{'contentDetails': {'itemCount': 0},\n",
      "            'etag': '\"ksCrgYQhtFrXgbHAhi9Fo5t0C2I/jNaQ564HEqzkp3J_PlNv7pXli-o\"',\n",
      "            'id': 'PLzTWL9X1TfQwXTkjw-rFFsAacUbJTFQUL',\n",
      "            'kind': 'youtube#playlist'},\n",
      "           {'contentDetails': {'itemCount': 5},\n",
      "            'etag': '\"ksCrgYQhtFrXgbHAhi9Fo5t0C2I/zlW0opgrVCwlyKKJVOkmGq2JSKY\"',\n",
      "            'id': 'PLzTWL9X1TfQwsOPvZmWMe0792ygEoMnBa',\n",
      "            'kind': 'youtube#playlist'},\n",
      "           {'contentDetails': {'itemCount': 47},\n",
      "            'etag': '\"ksCrgYQhtFrXgbHAhi9Fo5t0C2I/2XYLFYoGy1sbLoqC0pwCWt2SkU8\"',\n",
      "            'id': 'PLzTWL9X1TfQzAbcb53JnnSB2TE0gqy0XP',\n",
      "            'kind': 'youtube#playlist'},\n",
      "           {'contentDetails': {'itemCount': 99},\n",
      "            'etag': '\"ksCrgYQhtFrXgbHAhi9Fo5t0C2I/YDvjNDiOgmxuY6n1DRgq3oOuWiI\"',\n",
      "            'id': 'PLzTWL9X1TfQzxRXzEgAimcR3TehPPh6B3',\n",
      "            'kind': 'youtube#playlist'},\n",
      "           {'contentDetails': {'itemCount': 7},\n",
      "            'etag': '\"ksCrgYQhtFrXgbHAhi9Fo5t0C2I/gTSGYY58sxN4NJ0gvx3j3fRBlsA\"',\n",
      "            'id': 'PLzTWL9X1TfQxrSgcMCpBrsNeecxtmD9xr',\n",
      "            'kind': 'youtube#playlist'},\n",
      "           {'contentDetails': {'itemCount': 38},\n",
      "            'etag': '\"ksCrgYQhtFrXgbHAhi9Fo5t0C2I/I_sS-M_eTtKigOuEralOVVgCfK8\"',\n",
      "            'id': 'PLzTWL9X1TfQxNbpBEhVkPcDuIXxEeVqrM',\n",
      "            'kind': 'youtube#playlist'},\n",
      "           {'contentDetails': {'itemCount': 256},\n",
      "            'etag': '\"ksCrgYQhtFrXgbHAhi9Fo5t0C2I/RxzPQ9lVBo55F89Yr3QKDC8WHlc\"',\n",
      "            'id': 'PLzTWL9X1TfQwyyiYXOIA4yaq9mHvkmSIr',\n",
      "            'kind': 'youtube#playlist'}],\n",
      " 'kind': 'youtube#playlistListResponse',\n",
      " 'pageInfo': {'resultsPerPage': 50, 'totalResults': 7}}\n"
     ]
    }
   ],
   "source": [
    "pprint(response)"
   ]
  },
  {
   "cell_type": "code",
   "execution_count": null,
   "metadata": {},
   "outputs": [],
   "source": [
    "UUfbKC4afdT60qQxs0-TxhDA"
   ]
  },
  {
   "cell_type": "code",
   "execution_count": 29,
   "metadata": {},
   "outputs": [
    {
     "data": {
      "text/plain": [
       "['__class__',\n",
       " '__delattr__',\n",
       " '__dict__',\n",
       " '__dir__',\n",
       " '__doc__',\n",
       " '__eq__',\n",
       " '__format__',\n",
       " '__ge__',\n",
       " '__getattribute__',\n",
       " '__getstate__',\n",
       " '__gt__',\n",
       " '__hash__',\n",
       " '__init__',\n",
       " '__init_subclass__',\n",
       " '__le__',\n",
       " '__lt__',\n",
       " '__module__',\n",
       " '__ne__',\n",
       " '__new__',\n",
       " '__reduce__',\n",
       " '__reduce_ex__',\n",
       " '__repr__',\n",
       " '__setattr__',\n",
       " '__setstate__',\n",
       " '__sizeof__',\n",
       " '__str__',\n",
       " '__subclasshook__',\n",
       " '__weakref__',\n",
       " '_add_basic_methods',\n",
       " '_add_nested_resources',\n",
       " '_add_next_methods',\n",
       " '_baseUrl',\n",
       " '_developerKey',\n",
       " '_dynamic_attrs',\n",
       " '_http',\n",
       " '_model',\n",
       " '_requestBuilder',\n",
       " '_resourceDesc',\n",
       " '_rootDesc',\n",
       " '_schema',\n",
       " '_set_dynamic_attr',\n",
       " '_set_service_methods',\n",
       " 'delete',\n",
       " 'insert',\n",
       " 'list',\n",
       " 'list_next',\n",
       " 'update']"
      ]
     },
     "execution_count": 29,
     "metadata": {},
     "output_type": "execute_result"
    }
   ],
   "source": [
    "dir(youtube.playlistItems())"
   ]
  },
  {
   "cell_type": "code",
   "execution_count": 35,
   "metadata": {},
   "outputs": [],
   "source": [
    "request = youtube.playlistItems().list(\n",
    "    part=\"contentDetails\",\n",
    "    playlistId=\"UUfbKC4afdT60qQxs0-TxhDA\",\n",
    "    maxResults=5\n",
    ")\n",
    "response = request.execute()"
   ]
  },
  {
   "cell_type": "code",
   "execution_count": 36,
   "metadata": {
    "scrolled": false
   },
   "outputs": [
    {
     "name": "stdout",
     "output_type": "stream",
     "text": [
      "{'etag': '\"ksCrgYQhtFrXgbHAhi9Fo5t0C2I/GDXVeTnGs7VLOPTjH-AQWwYl4X8\"',\n",
      " 'items': [{'contentDetails': {'videoId': 'MoXHBqGxPb4',\n",
      "                               'videoPublishedAt': '2020-04-01T15:47:57.000Z'},\n",
      "            'etag': '\"ksCrgYQhtFrXgbHAhi9Fo5t0C2I/LSuyhpKSCpGh4LESFmstyZuKzqE\"',\n",
      "            'id': 'VVVmYktDNGFmZFQ2MHFReHMwLVR4aERBLk1vWEhCcUd4UGI0',\n",
      "            'kind': 'youtube#playlistItem'},\n",
      "           {'contentDetails': {'videoId': 'bj02SA2FrrU',\n",
      "                               'videoPublishedAt': '2020-03-31T06:08:52.000Z'},\n",
      "            'etag': '\"ksCrgYQhtFrXgbHAhi9Fo5t0C2I/scJCcAGUaIyRgt9fK4FzofKwHZ0\"',\n",
      "            'id': 'VVVmYktDNGFmZFQ2MHFReHMwLVR4aERBLmJqMDJTQTJGcnJV',\n",
      "            'kind': 'youtube#playlistItem'},\n",
      "           {'contentDetails': {'videoId': 'M2EhWJAR-nQ',\n",
      "                               'videoPublishedAt': '2020-03-30T07:33:58.000Z'},\n",
      "            'etag': '\"ksCrgYQhtFrXgbHAhi9Fo5t0C2I/rMDjMOpcYVycQbRfUBPn3j0xDHQ\"',\n",
      "            'id': 'VVVmYktDNGFmZFQ2MHFReHMwLVR4aERBLk0yRWhXSkFSLW5R',\n",
      "            'kind': 'youtube#playlistItem'},\n",
      "           {'contentDetails': {'videoId': '3IYSoqb0SU0',\n",
      "                               'videoPublishedAt': '2020-03-29T04:31:38.000Z'},\n",
      "            'etag': '\"ksCrgYQhtFrXgbHAhi9Fo5t0C2I/tHpfXDhfxcZ-zx87j47uyqZFjf8\"',\n",
      "            'id': 'VVVmYktDNGFmZFQ2MHFReHMwLVR4aERBLjNJWVNvcWIwU1Uw',\n",
      "            'kind': 'youtube#playlistItem'},\n",
      "           {'contentDetails': {'videoId': 'cJp1QLNXD2Y',\n",
      "                               'videoPublishedAt': '2020-03-28T06:29:08.000Z'},\n",
      "            'etag': '\"ksCrgYQhtFrXgbHAhi9Fo5t0C2I/duUb3rdYlWMW38Zhrz2o5s3ak3U\"',\n",
      "            'id': 'VVVmYktDNGFmZFQ2MHFReHMwLVR4aERBLmNKcDFRTE5YRDJZ',\n",
      "            'kind': 'youtube#playlistItem'}],\n",
      " 'kind': 'youtube#playlistItemListResponse',\n",
      " 'nextPageToken': 'CAUQAA',\n",
      " 'pageInfo': {'resultsPerPage': 5, 'totalResults': 603}}\n"
     ]
    }
   ],
   "source": [
    "pprint(response)"
   ]
  },
  {
   "cell_type": "code",
   "execution_count": 39,
   "metadata": {},
   "outputs": [
    {
     "name": "stdout",
     "output_type": "stream",
     "text": [
      "{'etag': '\"ksCrgYQhtFrXgbHAhi9Fo5t0C2I/kWde4GLAnYGbixGIp7sgvN60r9c\"',\n",
      " 'items': [{'contentDetails': {'caption': 'false',\n",
      "                               'definition': 'hd',\n",
      "                               'dimension': '2d',\n",
      "                               'duration': 'PT23M14S',\n",
      "                               'licensedContent': True,\n",
      "                               'projection': 'rectangular'},\n",
      "            'etag': '\"ksCrgYQhtFrXgbHAhi9Fo5t0C2I/9vyjy9cxWDOl6dMuUJoJK_LwNLo\"',\n",
      "            'id': 'MoXHBqGxPb4',\n",
      "            'kind': 'youtube#video'}],\n",
      " 'kind': 'youtube#videoListResponse',\n",
      " 'pageInfo': {'resultsPerPage': 1, 'totalResults': 1}}\n"
     ]
    }
   ],
   "source": [
    "request = youtube.videos().list(\n",
    "    part=\"contentDetails\",\n",
    "    id=\"MoXHBqGxPb4\"\n",
    ")\n",
    "response = request.execute()\n",
    "pprint(response)"
   ]
  },
  {
   "cell_type": "code",
   "execution_count": 40,
   "metadata": {
    "scrolled": false
   },
   "outputs": [
    {
     "name": "stdout",
     "output_type": "stream",
     "text": [
      "{'etag': '\"ksCrgYQhtFrXgbHAhi9Fo5t0C2I/fg9DNARNADyMP1jV0jnFyDl6T1g\"',\n",
      " 'items': [{'etag': '\"ksCrgYQhtFrXgbHAhi9Fo5t0C2I/R_tf3MyfEAOnpSbo5pHTMl9NvK0\"',\n",
      "            'id': 'MoXHBqGxPb4',\n",
      "            'kind': 'youtube#video',\n",
      "            'snippet': {'categoryId': '22',\n",
      "                        'channelId': 'UCfbKC4afdT60qQxs0-TxhDA',\n",
      "                        'channelTitle': 'МАМА Отличника',\n",
      "                        'defaultAudioLanguage': 'ru',\n",
      "                        'defaultLanguage': 'ru',\n",
      "                        'description': 'МОПС ТЕДДИ не ТАК и ПЛОХ! ВЫВОЖУ БЛОХ '\n",
      "                                       'и ГЛИСТОВ!  '\n",
      "                                       'https://youtu.be/MoXHBqGxPb4\\n'\n",
      "                                       '\\n'\n",
      "                                       '\\n'\n",
      "                                       'Я РЕАЛЬНО ИСТЕРЮ!  МОПС ТЕДДИ ИЗМЕНИЛ '\n",
      "                                       'нашу ЖИЗНЬ! '\n",
      "                                       'https://youtu.be/bj02SA2FrrU\\n'\n",
      "                                       '\\n'\n",
      "                                       'КАК МУЖ и СЫН ОТРЕАГИРОВАЛИ на ПОКУПКУ '\n",
      "                                       'МОПСА! https://youtu.be/M2EhWJAR-nQ  \\n'\n",
      "                                       '\\n'\n",
      "                                       ' \\n'\n",
      "                                       '\\n'\n",
      "                                       '\\n'\n",
      "                                       '\\n'\n",
      "                                       'КУПИЛА МОПСА ! ОН ТАК '\n",
      "                                       'ВОНЯЕТ!!!!https://youtu.be/3IYSoqb0SU0\\n'\n",
      "                                       '\\n'\n",
      "                                       '#семьявроссии  #покупкапитомца #мопс \\n'\n",
      "                                       '\\n'\n",
      "                                       ' \\n'\n",
      "                                       '\\n'\n",
      "                                       '\\n'\n",
      "                                       '#жизньвроссии #щенокмопса '\n",
      "                                       '#мамаотличника',\n",
      "                        'liveBroadcastContent': 'none',\n",
      "                        'localized': {'description': 'МОПС ТЕДДИ не ТАК и '\n",
      "                                                     'ПЛОХ! ВЫВОЖУ БЛОХ и '\n",
      "                                                     'ГЛИСТОВ!  '\n",
      "                                                     'https://youtu.be/MoXHBqGxPb4\\n'\n",
      "                                                     '\\n'\n",
      "                                                     '\\n'\n",
      "                                                     'Я РЕАЛЬНО ИСТЕРЮ!  МОПС '\n",
      "                                                     'ТЕДДИ ИЗМЕНИЛ нашу '\n",
      "                                                     'ЖИЗНЬ! '\n",
      "                                                     'https://youtu.be/bj02SA2FrrU\\n'\n",
      "                                                     '\\n'\n",
      "                                                     'КАК МУЖ и СЫН '\n",
      "                                                     'ОТРЕАГИРОВАЛИ на ПОКУПКУ '\n",
      "                                                     'МОПСА! '\n",
      "                                                     'https://youtu.be/M2EhWJAR-nQ  \\n'\n",
      "                                                     '\\n'\n",
      "                                                     ' \\n'\n",
      "                                                     '\\n'\n",
      "                                                     '\\n'\n",
      "                                                     '\\n'\n",
      "                                                     'КУПИЛА МОПСА ! ОН ТАК '\n",
      "                                                     'ВОНЯЕТ!!!!https://youtu.be/3IYSoqb0SU0\\n'\n",
      "                                                     '\\n'\n",
      "                                                     '#семьявроссии  '\n",
      "                                                     '#покупкапитомца #мопс \\n'\n",
      "                                                     '\\n'\n",
      "                                                     ' \\n'\n",
      "                                                     '\\n'\n",
      "                                                     '\\n'\n",
      "                                                     '#жизньвроссии '\n",
      "                                                     '#щенокмопса '\n",
      "                                                     '#мамаотличника',\n",
      "                                      'title': 'МОПС ТЕДДИ не ТАК и ПЛОХ! '\n",
      "                                               'ВЫВОЖУ БЛОХ и ГЛИСТОВ!'},\n",
      "                        'publishedAt': '2020-04-01T15:47:57.000Z',\n",
      "                        'tags': ['влог',\n",
      "                                 'мама отличника',\n",
      "                                 'шпротная диета',\n",
      "                                 'мопс',\n",
      "                                 'собака мопс',\n",
      "                                 'мопс тедди',\n",
      "                                 'тедди',\n",
      "                                 'питомец',\n",
      "                                 'россия',\n",
      "                                 'щенок',\n",
      "                                 'купить щенка',\n",
      "                                 'как мопс',\n",
      "                                 'семья',\n",
      "                                 'семья в россии',\n",
      "                                 'отношения',\n",
      "                                 'отношения муж жена',\n",
      "                                 'семейные отношения',\n",
      "                                 'домашний питомец',\n",
      "                                 'любовь',\n",
      "                                 'счастье',\n",
      "                                 'семейное счастье',\n",
      "                                 'блохи',\n",
      "                                 'глисты',\n",
      "                                 'дезинфекция щенков'],\n",
      "                        'thumbnails': {'default': {'height': 90,\n",
      "                                                   'url': 'https://i.ytimg.com/vi/MoXHBqGxPb4/default.jpg',\n",
      "                                                   'width': 120},\n",
      "                                       'high': {'height': 360,\n",
      "                                                'url': 'https://i.ytimg.com/vi/MoXHBqGxPb4/hqdefault.jpg',\n",
      "                                                'width': 480},\n",
      "                                       'maxres': {'height': 720,\n",
      "                                                  'url': 'https://i.ytimg.com/vi/MoXHBqGxPb4/maxresdefault.jpg',\n",
      "                                                  'width': 1280},\n",
      "                                       'medium': {'height': 180,\n",
      "                                                  'url': 'https://i.ytimg.com/vi/MoXHBqGxPb4/mqdefault.jpg',\n",
      "                                                  'width': 320},\n",
      "                                       'standard': {'height': 480,\n",
      "                                                    'url': 'https://i.ytimg.com/vi/MoXHBqGxPb4/sddefault.jpg',\n",
      "                                                    'width': 640}},\n",
      "                        'title': 'МОПС ТЕДДИ не ТАК и ПЛОХ! ВЫВОЖУ БЛОХ и '\n",
      "                                 'ГЛИСТОВ!'}}],\n",
      " 'kind': 'youtube#videoListResponse',\n",
      " 'pageInfo': {'resultsPerPage': 1, 'totalResults': 1}}\n"
     ]
    }
   ],
   "source": [
    "request = youtube.videos().list(\n",
    "    part=\"snippet\",\n",
    "    id=\"MoXHBqGxPb4\"\n",
    ")\n",
    "response = request.execute()\n",
    "pprint(response)"
   ]
  },
  {
   "cell_type": "code",
   "execution_count": 41,
   "metadata": {},
   "outputs": [
    {
     "name": "stdout",
     "output_type": "stream",
     "text": [
      "{'etag': '\"ksCrgYQhtFrXgbHAhi9Fo5t0C2I/UNfcjDgx_nI9-siOXyWkP8_oX-Q\"',\n",
      " 'items': [{'etag': '\"ksCrgYQhtFrXgbHAhi9Fo5t0C2I/LA-Cc3Jsm2cw1bCw_z52BNSpReY\"',\n",
      "            'id': 'MoXHBqGxPb4',\n",
      "            'kind': 'youtube#video',\n",
      "            'statistics': {'commentCount': '985',\n",
      "                           'dislikeCount': '552',\n",
      "                           'favoriteCount': '0',\n",
      "                           'likeCount': '3498',\n",
      "                           'viewCount': '101235'}}],\n",
      " 'kind': 'youtube#videoListResponse',\n",
      " 'pageInfo': {'resultsPerPage': 1, 'totalResults': 1}}\n"
     ]
    }
   ],
   "source": [
    "request = youtube.videos().list(\n",
    "    part=\"statistics\",\n",
    "    id=\"MoXHBqGxPb4\"\n",
    ")\n",
    "response = request.execute()\n",
    "pprint(response)"
   ]
  },
  {
   "cell_type": "code",
   "execution_count": 56,
   "metadata": {},
   "outputs": [
    {
     "name": "stdout",
     "output_type": "stream",
     "text": [
      "{'etag': '\"ksCrgYQhtFrXgbHAhi9Fo5t0C2I/zEtDq6mPYA7mH-wiNWAa_KPz3g0\"',\n",
      " 'items': [{'rating': 'none', 'videoId': 'MoXHBqGxPb4'}],\n",
      " 'kind': 'youtube#videoGetRatingResponse'}\n"
     ]
    }
   ],
   "source": [
    "request = youtube.videos().getRating(\n",
    "    id=\"MoXHBqGxPb4\"\n",
    ")\n",
    "response = request.execute()\n",
    "pprint(response)"
   ]
  },
  {
   "cell_type": "code",
   "execution_count": 52,
   "metadata": {
    "scrolled": false
   },
   "outputs": [
    {
     "name": "stdout",
     "output_type": "stream",
     "text": [
      "{'etag': '\"ksCrgYQhtFrXgbHAhi9Fo5t0C2I/FODav_SX_iVzj8TThfOj5OD3F_s\"',\n",
      " 'items': [{'etag': '\"ksCrgYQhtFrXgbHAhi9Fo5t0C2I/C9z5LuDj-8vFsmHMKEvsv5iFOt8\"',\n",
      "            'id': 'UgyYi6w0XSGLPuOq_7N4AaABAg',\n",
      "            'kind': 'youtube#commentThread',\n",
      "            'snippet': {'canReply': True,\n",
      "                        'isPublic': True,\n",
      "                        'topLevelComment': {'etag': '\"ksCrgYQhtFrXgbHAhi9Fo5t0C2I/92IRC6Ef_GFckWl9efbftnJwBMc\"',\n",
      "                                            'id': 'UgyYi6w0XSGLPuOq_7N4AaABAg',\n",
      "                                            'kind': 'youtube#comment',\n",
      "                                            'snippet': {'authorChannelId': {'value': 'UCld9uDsRy2lOl_CSby9zW2w'},\n",
      "                                                        'authorChannelUrl': 'http://www.youtube.com/channel/UCld9uDsRy2lOl_CSby9zW2w',\n",
      "                                                        'authorDisplayName': 'Ангелина '\n",
      "                                                                             'Град',\n",
      "                                                        'authorProfileImageUrl': 'https://yt3.ggpht.com/a/AATXAJz-O_gCANsmaViQhFLRekYLiPywXNFa2zt4sQ=s48-c-k-c0xffffffff-no-rj-mo',\n",
      "                                                        'canRate': True,\n",
      "                                                        'likeCount': 0,\n",
      "                                                        'publishedAt': '2020-04-02T06:46:51.000Z',\n",
      "                                                        'textDisplay': 'Отдайте '\n",
      "                                                                       'подписчикам '\n",
      "                                                                       'раз не '\n",
      "                                                                       'хотите',\n",
      "                                                        'textOriginal': 'Отдайте '\n",
      "                                                                        'подписчикам '\n",
      "                                                                        'раз '\n",
      "                                                                        'не '\n",
      "                                                                        'хотите',\n",
      "                                                        'updatedAt': '2020-04-02T06:46:51.000Z',\n",
      "                                                        'videoId': 'MoXHBqGxPb4',\n",
      "                                                        'viewerRating': 'none'}},\n",
      "                        'totalReplyCount': 0,\n",
      "                        'videoId': 'MoXHBqGxPb4'}},\n",
      "           {'etag': '\"ksCrgYQhtFrXgbHAhi9Fo5t0C2I/LNA9fNmIjn4pj8jYpXymNxigmjU\"',\n",
      "            'id': 'UgzS6HqRvhnXfHxMCgJ4AaABAg',\n",
      "            'kind': 'youtube#commentThread',\n",
      "            'snippet': {'canReply': True,\n",
      "                        'isPublic': True,\n",
      "                        'topLevelComment': {'etag': '\"ksCrgYQhtFrXgbHAhi9Fo5t0C2I/5wkuj1nfEeHN1befHn4Y5hFZ1Y0\"',\n",
      "                                            'id': 'UgzS6HqRvhnXfHxMCgJ4AaABAg',\n",
      "                                            'kind': 'youtube#comment',\n",
      "                                            'snippet': {'authorChannelId': {'value': 'UCAdqATd6wnvDnLi8gOqe6Vg'},\n",
      "                                                        'authorChannelUrl': 'http://www.youtube.com/channel/UCAdqATd6wnvDnLi8gOqe6Vg',\n",
      "                                                        'authorDisplayName': 'Atmosfera '\n",
      "                                                                             'shastia',\n",
      "                                                        'authorProfileImageUrl': 'https://yt3.ggpht.com/a/AATXAJx6E4jnFb7CYc3tAQWs03rIF2HosRqLFuUwmA=s48-c-k-c0xffffffff-no-rj-mo',\n",
      "                                                        'canRate': True,\n",
      "                                                        'likeCount': 0,\n",
      "                                                        'publishedAt': '2020-04-02T06:40:27.000Z',\n",
      "                                                        'textDisplay': 'Е П , '\n",
      "                                                                       'Тедди '\n",
      "                                                                       'вытеснил '\n",
      "                                                                       'Масю. '\n",
      "                                                                       'Видео, '\n",
      "                                                                       'что вы '\n",
      "                                                                       'начинаете '\n",
      "                                                                       'его '\n",
      "                                                                       'любить '\n",
      "                                                                       'и '\n",
      "                                                                       'привыкать.👍',\n",
      "                                                        'textOriginal': 'Е П , '\n",
      "                                                                        'Тедди '\n",
      "                                                                        'вытеснил '\n",
      "                                                                        'Масю. '\n",
      "                                                                        'Видео, '\n",
      "                                                                        'что '\n",
      "                                                                        'вы '\n",
      "                                                                        'начинаете '\n",
      "                                                                        'его '\n",
      "                                                                        'любить '\n",
      "                                                                        'и '\n",
      "                                                                        'привыкать.👍',\n",
      "                                                        'updatedAt': '2020-04-02T06:40:27.000Z',\n",
      "                                                        'videoId': 'MoXHBqGxPb4',\n",
      "                                                        'viewerRating': 'none'}},\n",
      "                        'totalReplyCount': 0,\n",
      "                        'videoId': 'MoXHBqGxPb4'}}],\n",
      " 'kind': 'youtube#commentThreadListResponse',\n",
      " 'nextPageToken': 'QURTSl9pMV9OYlJaWS1QWFNhU3NfYzg3d0VhYTJCbUY4eXpaNm41ZWw0TzlQOUJWamRvUl81NFlGT0NpekVZQWdUQjJXYmZKS1BQSWNscTM0LWhfeGE0U2JxWmNBazFCb1JmZGlFRmFCR0NpRFhxV3BnMlhRUmRQWXVHRXhaMVNHdk0=',\n",
      " 'pageInfo': {'resultsPerPage': 2, 'totalResults': 2}}\n"
     ]
    }
   ],
   "source": [
    "request = youtube.commentThreads().list(\n",
    "    part=\"snippet\",\n",
    "    videoId=\"MoXHBqGxPb4\",\n",
    "    maxResults=2\n",
    ")\n",
    "response = request.execute()\n",
    "pprint(response)"
   ]
  },
  {
   "cell_type": "markdown",
   "metadata": {},
   "source": [
    "## Обкачиваем комментарии с канала по отдельным видео"
   ]
  },
  {
   "cell_type": "markdown",
   "metadata": {},
   "source": [
    "#### Создаем базу для хранения всего\n",
    "\n",
    "Тут упрощенная схема, потмоу что все видео из одного источника. Если много, то нужно к видео еще добавить отсылку к автору\n",
    "\n",
    "<img src=\"./yt_pics/db_schema.png\">"
   ]
  },
  {
   "cell_type": "code",
   "execution_count": 6,
   "metadata": {},
   "outputs": [],
   "source": [
    "import sqlite3"
   ]
  },
  {
   "cell_type": "code",
   "execution_count": 7,
   "metadata": {},
   "outputs": [],
   "source": [
    "db = sqlite3.connect('youtube_db.db')\n",
    "cur = db.cursor()"
   ]
  },
  {
   "cell_type": "code",
   "execution_count": 64,
   "metadata": {},
   "outputs": [],
   "source": [
    "cur.execute(\"\"\"\n",
    "CREATE TABLE authors (\n",
    "    id INTEGER PRIMARY KEY AUTOINCREMENT,\n",
    "    youtube_id    TEXT,\n",
    "    name    TEXT,\n",
    "    country TEXT,\n",
    "    subscriberCount INT,\n",
    "    videoCount INT,\n",
    "    viewCOunt INT\n",
    ");\n",
    "\"\"\")\n",
    "\n",
    "cur.execute(\"\"\"\n",
    "CREATE TABLE tags (\n",
    "    id INTEGER PRIMARY KEY AUTOINCREMENT,\n",
    "    tag    TEXT\n",
    ");\n",
    "\"\"\")\n",
    "\n",
    "cur.execute(\"\"\"\n",
    "CREATE TABLE video_to_tags (\n",
    "    id_video    INTEGER,\n",
    "    id_tag    INTEGER\n",
    ");\n",
    "\"\"\")\n",
    "\n",
    "cur.execute(\"\"\"\n",
    "CREATE TABLE video_meta (\n",
    "    id INTEGER PRIMARY KEY AUTOINCREMENT,\n",
    "    youtube_id    TEXT,\n",
    "    likeCount INT,\n",
    "    dislikeCount INT,\n",
    "    commentCount INT,\n",
    "    favoriteCount INT,\n",
    "    viewCount INT,\n",
    "    defaultLanguage TEXT,\n",
    "    publishedAt TEXT,\n",
    "    title TEXT,\n",
    "    description TEXT,\n",
    "    duration TEXT\n",
    ");\n",
    "\"\"\")\n",
    "\n",
    "cur.execute(\"\"\"\n",
    "CREATE TABLE comments (\n",
    "    id INTEGER PRIMARY KEY AUTOINCREMENT,\n",
    "    youtube_id TEXT,\n",
    "    id_video    INTEGER,\n",
    "    id_author INT,\n",
    "    textOriginal TEXT,\n",
    "    totalReplyCount INT,\n",
    "    publishedAt TEXT,\n",
    "    likeCount INT\n",
    "    is_reply_to INT\n",
    ");\n",
    "\"\"\")\n",
    "\n",
    "db.commit()"
   ]
  },
  {
   "cell_type": "markdown",
   "metadata": {},
   "source": [
    "#### Собираем данные по видео из плейлиста\n",
    "\n",
    "Плейлист - песни Евровидения 2020. ID плейлиста можно найти в адресной строке"
   ]
  },
  {
   "cell_type": "code",
   "execution_count": 14,
   "metadata": {},
   "outputs": [],
   "source": [
    "request = youtube.playlistItems().list(\n",
    "    part=\"contentDetails\",\n",
    "    playlistId=\"PLmWYEDTNOGUL69D2wj9m2onBKV2s3uT5Y\",\n",
    "    maxResults=50\n",
    ")\n",
    "response = request.execute()"
   ]
  },
  {
   "cell_type": "code",
   "execution_count": 15,
   "metadata": {},
   "outputs": [
    {
     "data": {
      "text/plain": [
       "41"
      ]
     },
     "execution_count": 15,
     "metadata": {},
     "output_type": "execute_result"
    }
   ],
   "source": [
    "len(response['items'])"
   ]
  },
  {
   "cell_type": "markdown",
   "metadata": {},
   "source": [
    "все ок, все видео на месте"
   ]
  },
  {
   "cell_type": "code",
   "execution_count": 16,
   "metadata": {},
   "outputs": [],
   "source": [
    "video_ids = [v.get('contentDetails', {}).get('videoId') for v in response['items']]"
   ]
  },
  {
   "cell_type": "code",
   "execution_count": 17,
   "metadata": {},
   "outputs": [
    {
     "data": {
      "text/plain": [
       "['J5SOdhXjYko', 'wROqCHLnbko', 'XpQHGMM8c5U', 'TA57rugucwk', 'L_dWvTCdDQ4']"
      ]
     },
     "execution_count": 17,
     "metadata": {},
     "output_type": "execute_result"
    }
   ],
   "source": [
    "video_ids[:5]"
   ]
  },
  {
   "cell_type": "markdown",
   "metadata": {},
   "source": [
    "Записываем айди видео в базу"
   ]
  },
  {
   "cell_type": "code",
   "execution_count": 78,
   "metadata": {},
   "outputs": [],
   "source": [
    "cur.executemany('INSERT INTO video_meta (youtube_id) VALUES (?)', [(v, ) for v in video_ids])\n",
    "db.commit()"
   ]
  },
  {
   "cell_type": "markdown",
   "metadata": {},
   "source": [
    "Запрашиваем длину видео и записываем в базу"
   ]
  },
  {
   "cell_type": "code",
   "execution_count": 88,
   "metadata": {},
   "outputs": [],
   "source": [
    "for vid in video_ids[1:]:\n",
    "    request = youtube.videos().list(\n",
    "        part=\"contentDetails\",\n",
    "        id=vid\n",
    "    )\n",
    "    response = request.execute()\n",
    "    cur.execute('UPDATE video_meta SET duration = ? WHERE youtube_id = ?', (\n",
    "        response.get('items', [0])[0].get('contentDetails', {}).get('duration'),\n",
    "        response.get('items', [0])[0].get('id', {}),\n",
    "    ))\n",
    "db.commit()"
   ]
  },
  {
   "cell_type": "markdown",
   "metadata": {},
   "source": [
    "Чтобы адресоваться не по текстовым ютьюб-айди, а по числовым нашим, сделаем отображение из айди их в наш."
   ]
  },
  {
   "cell_type": "code",
   "execution_count": 23,
   "metadata": {},
   "outputs": [],
   "source": [
    "cur.execute('SELECT youtube_id, id FROM video_meta')\n",
    "videos = {key: val for key, val in cur.fetchall()}"
   ]
  },
  {
   "cell_type": "markdown",
   "metadata": {},
   "source": [
    "А теперь скачаем теги к видео. Здесь такая же схема со словарем текст в индекс, чтобы удобно было проверять, есть ли у нас такой тег и сразу записывать номер."
   ]
  },
  {
   "cell_type": "code",
   "execution_count": 104,
   "metadata": {},
   "outputs": [],
   "source": [
    "cur.execute('SELECT tag, id FROM tags')\n",
    "tags = {key: val for key, val in cur.fetchall()}\n",
    "t_idx = 0 if len(tags) == 0 else max(tags.values())\n",
    "\n",
    "tags_to_insert = []\n",
    "for vid in video_ids:\n",
    "    request = youtube.videos().list(\n",
    "        part=\"snippet\",\n",
    "        id=vid\n",
    "    )\n",
    "    response = request.execute()\n",
    "    snippet = response.get('items', [0])[0].get('snippet', {})\n",
    "    these_tags = snippet.get('tags')\n",
    "    save_tags = []\n",
    "    for t in these_tags:\n",
    "        if t not in tags:\n",
    "            tags[t] = t_idx + 1\n",
    "            t_idx = t_idx + 1\n",
    "            tags_to_insert.append((t_idx, t))\n",
    "        save_tags.append((videos[vid], tags[t]))\n",
    "    cur.execute(\"\"\"\n",
    "        UPDATE video_meta SET \n",
    "        defaultLanguage = ?,\n",
    "        description = ?,\n",
    "        title = ?,\n",
    "        publishedAt = ?\n",
    "        WHERE youtube_id = ?\n",
    "        \"\"\", (\n",
    "        snippet.get('defaultLanguage'),\n",
    "        snippet.get('description'),\n",
    "        snippet.get('title'),\n",
    "        snippet.get('publishedAt'),\n",
    "        vid\n",
    "    ))\n",
    "    cur.executemany(\"INSERT INTO video_to_tags VALUES (?, ?)\", save_tags)\n",
    "cur.executemany(\"INSERT INTO tags VALUES (?, ?)\", tags_to_insert)\n",
    "db.commit()"
   ]
  },
  {
   "cell_type": "markdown",
   "metadata": {},
   "source": [
    "Посмотрим на статистику видео."
   ]
  },
  {
   "cell_type": "code",
   "execution_count": 108,
   "metadata": {},
   "outputs": [],
   "source": [
    "request = youtube.videos().list(\n",
    "        part=\"statistics\",\n",
    "        id=video_ids[0]\n",
    "    )\n",
    "response = request.execute()"
   ]
  },
  {
   "cell_type": "code",
   "execution_count": 109,
   "metadata": {},
   "outputs": [
    {
     "data": {
      "text/plain": [
       "{'kind': 'youtube#videoListResponse',\n",
       " 'etag': '\"ksCrgYQhtFrXgbHAhi9Fo5t0C2I/1nTIwqGO2tZO8C6bWLViu-Ed3Ns\"',\n",
       " 'pageInfo': {'totalResults': 1, 'resultsPerPage': 1},\n",
       " 'items': [{'kind': 'youtube#video',\n",
       "   'etag': '\"ksCrgYQhtFrXgbHAhi9Fo5t0C2I/mIeaCMzRGsjghcXttrlYLmt-lZo\"',\n",
       "   'id': 'wROqCHLnbko',\n",
       "   'statistics': {'viewCount': '394506',\n",
       "    'likeCount': '7434',\n",
       "    'dislikeCount': '3549',\n",
       "    'favoriteCount': '0',\n",
       "    'commentCount': '1337'}}]}"
      ]
     },
     "execution_count": 109,
     "metadata": {},
     "output_type": "execute_result"
    }
   ],
   "source": [
    "response"
   ]
  },
  {
   "cell_type": "markdown",
   "metadata": {},
   "source": [
    "Запишем в базу"
   ]
  },
  {
   "cell_type": "code",
   "execution_count": 111,
   "metadata": {},
   "outputs": [],
   "source": [
    "for vid in video_ids[1:]:\n",
    "    request = youtube.videos().list(\n",
    "        part=\"statistics\",\n",
    "        id=vid\n",
    "    )\n",
    "    response = request.execute()\n",
    "    data = response.get('items', [0])[0].get('statistics', {})\n",
    "    cur.execute(\"\"\"\n",
    "        UPDATE video_meta SET \n",
    "        commentCount = ?,\n",
    "        dislikeCount = ?,\n",
    "        favoriteCount = ?,\n",
    "        likeCount = ?,\n",
    "        viewCount = ?\n",
    "        WHERE youtube_id = ?\n",
    "        \"\"\", (\n",
    "        data.get('commentCount'),\n",
    "        data.get('dislikeCount'),\n",
    "        data.get('favoriteCount'),\n",
    "        data.get('likeCount'),\n",
    "        data.get('viewCount'),\n",
    "        vid\n",
    "    ))\n",
    "db.commit()"
   ]
  },
  {
   "cell_type": "markdown",
   "metadata": {},
   "source": [
    "### Комментарии"
   ]
  },
  {
   "cell_type": "code",
   "execution_count": 19,
   "metadata": {},
   "outputs": [],
   "source": [
    "cur.execute('SELECT youtube_id FROM video_meta')\n",
    "video_ids = [i[0] for i in cur.fetchall()]"
   ]
  },
  {
   "cell_type": "code",
   "execution_count": 20,
   "metadata": {},
   "outputs": [],
   "source": [
    "def parse_one(response, vidx, a_idx, authors_to_insert, authors):\n",
    "    items = response.get('items', [])\n",
    "#     print(len(items))\n",
    "    nextPageToken = response.get('nextPageToken')\n",
    "    data = []\n",
    "    for item in items:\n",
    "        snippet = item.get('snippet')\n",
    "        snippet2 = snippet.get('topLevelComment', {}).get('snippet', {})\n",
    "        idx = item.get('id')\n",
    "#         print(idx)\n",
    "        author = snippet2.get('authorChannelId', {}).get('value')\n",
    "        if author not in authors:\n",
    "            a_idx = a_idx + 1\n",
    "            authors[author] = a_idx\n",
    "            authorDisplayName = snippet2.get('authorDisplayName')\n",
    "            authors_to_insert.append((a_idx, author, authorDisplayName))\n",
    "        autidx = authors[author]\n",
    "        likeCount = snippet2.get('likeCount')\n",
    "        publishedAt = snippet2.get('publishedAt')\n",
    "        textOriginal = snippet2.get('textOriginal')\n",
    "        totalReplyCount = snippet.get('totalReplyCount')\n",
    "        data.append((idx, vidx, autidx, textOriginal, totalReplyCount, publishedAt, likeCount))\n",
    "    cur.executemany(\"\"\"\n",
    "    INSERT INTO comments \n",
    "    (youtube_id, id_video, id_author, textOriginal, totalReplyCount, publishedAt, likeCount)\n",
    "    VALUES (?, ?, ?, ?, ?, ?, ?)\"\"\", data)\n",
    "    return nextPageToken, authors, a_idx, authors_to_insert, authors"
   ]
  },
  {
   "cell_type": "code",
   "execution_count": 24,
   "metadata": {
    "scrolled": true
   },
   "outputs": [
    {
     "name": "stdout",
     "output_type": "stream",
     "text": [
      "126769\n",
      "zNetXPSld50\n",
      "zuDdex1st-Y\n",
      "lAqjksxc4iA\n",
      "o9atJbnqhJU\n",
      "gr-wWxu4974\n"
     ]
    }
   ],
   "source": [
    "db.rollback()\n",
    "cur.execute('SELECT youtube_id, id FROM authors')\n",
    "authors = {key: val for key, val in cur.fetchall()}\n",
    "a_idx = 0 if len(authors) == 0 else max(authors.values())\n",
    "print(len(authors))\n",
    "\n",
    "# это я просто запускал по частям, потому что закончился лимит\n",
    "start = 19 + 8 + 8 + 1 \n",
    "n = 8\n",
    "\n",
    "for vid in video_ids[start:start+n]:\n",
    "    authors_to_insert = []\n",
    "    vidx = videos[vid]\n",
    "    request = youtube.commentThreads().list(\n",
    "        part=\"snippet\",\n",
    "        videoId=vid,\n",
    "        maxResults=100\n",
    "    )\n",
    "    response = request.execute()\n",
    "    nextPageToken, authors, a_idx, authors_to_insert, authors = parse_one(\n",
    "        response, vidx, a_idx, authors_to_insert, authors)\n",
    "    while nextPageToken:\n",
    "#         print('='*120, '\\n', nextPageToken)\n",
    "        request = youtube.commentThreads().list(\n",
    "            part=\"snippet\",\n",
    "            videoId=vid,\n",
    "            pageToken=nextPageToken,\n",
    "            maxResults=100\n",
    "        )\n",
    "        response = request.execute()\n",
    "        nextPageToken, authors, a_idx, authors_to_insert, authors = parse_one(\n",
    "            response, vidx, a_idx, authors_to_insert, authors)\n",
    "    db.commit()\n",
    "    cur.executemany(\"\"\"\n",
    "        INSERT INTO authors \n",
    "        (id, youtube_id, name)\n",
    "        VALUES (?, ?, ?)\"\"\", authors_to_insert)\n",
    "    db.commit()\n",
    "    print(vid)"
   ]
  },
  {
   "cell_type": "code",
   "execution_count": 26,
   "metadata": {},
   "outputs": [],
   "source": [
    "request = youtube.comments().list(\n",
    "    part=\"snippet\",\n",
    "    parentId='Ugw9BahNmRWnJmTAabt4AaABAg',\n",
    "    maxResults=100\n",
    ")\n",
    "response = request.execute()"
   ]
  },
  {
   "cell_type": "code",
   "execution_count": null,
   "metadata": {},
   "outputs": [],
   "source": [
    "def parse_one(response, vidx, a_idx, authors_to_insert, authors):\n",
    "    items = response.get('items', [])\n",
    "#     print(len(items))\n",
    "    nextPageToken = response.get('nextPageToken')\n",
    "    data = []\n",
    "    for item in items:\n",
    "        snippet = item.get('snippet')\n",
    "        snippet2 = snippet.get('topLevelComment', {}).get('snippet', {})\n",
    "        idx = item.get('id')\n",
    "#         print(idx)\n",
    "        author = snippet2.get('authorChannelId', {}).get('value')\n",
    "        if author not in authors:\n",
    "            a_idx = a_idx + 1\n",
    "            authors[author] = a_idx\n",
    "            authorDisplayName = snippet2.get('authorDisplayName')\n",
    "            authors_to_insert.append((a_idx, author, authorDisplayName))\n",
    "        autidx = authors[author]\n",
    "        likeCount = snippet2.get('likeCount')\n",
    "        publishedAt = snippet2.get('publishedAt')\n",
    "        textOriginal = snippet2.get('textOriginal')\n",
    "        totalReplyCount = snippet.get('totalReplyCount')\n",
    "        data.append((idx, vidx, autidx, textOriginal, totalReplyCount, publishedAt, likeCount))\n",
    "    cur.executemany(\"\"\"\n",
    "    INSERT INTO comments \n",
    "    (youtube_id, id_video, id_author, textOriginal, totalReplyCount, publishedAt, likeCount, parentId)\n",
    "    VALUES (?, ?, ?, ?, ?, ?, ?)\"\"\", data)\n",
    "    return nextPageToken, authors, a_idx, authors_to_insert, authors"
   ]
  },
  {
   "cell_type": "markdown",
   "metadata": {},
   "source": [
    "### Авторы комментариев"
   ]
  },
  {
   "cell_type": "code",
   "execution_count": 173,
   "metadata": {},
   "outputs": [],
   "source": [
    "db.rollback()"
   ]
  },
  {
   "cell_type": "code",
   "execution_count": 163,
   "metadata": {},
   "outputs": [],
   "source": [
    "cur.execute('SELECT youtube_id FROM authors')\n",
    "sets = set([i[0] for i in cur.fetchall()])"
   ]
  },
  {
   "cell_type": "code",
   "execution_count": 166,
   "metadata": {},
   "outputs": [
    {
     "data": {
      "text/plain": [
       "(32743, 12536)"
      ]
     },
     "execution_count": 166,
     "metadata": {},
     "output_type": "execute_result"
    }
   ],
   "source": [
    "len(sets), len(authors_to_insert)"
   ]
  },
  {
   "cell_type": "code",
   "execution_count": 172,
   "metadata": {},
   "outputs": [
    {
     "data": {
      "text/plain": [
       "False"
      ]
     },
     "execution_count": 172,
     "metadata": {},
     "output_type": "execute_result"
    }
   ],
   "source": [
    "'UCY6ANi5s0QhW3PM4DgWuAnw' in sets"
   ]
  },
  {
   "cell_type": "code",
   "execution_count": 18,
   "metadata": {},
   "outputs": [],
   "source": [
    "from tqdm.auto import tqdm"
   ]
  },
  {
   "cell_type": "code",
   "execution_count": 58,
   "metadata": {},
   "outputs": [],
   "source": [
    "cur.execute(\"\"\"\n",
    "SELECT id, youtube_id, cnt\n",
    "FROM authors \n",
    "    JOIN (\n",
    "        SELECT count(id) as cnt, id_author FROM comments GROUP BY id_author\n",
    "    ) as t1 ON t1.id_author = authors.id\n",
    "WHERE cnt < 8 AND cnt > 3\n",
    "ORDER BY cnt DESC;\n",
    "\"\"\")\n",
    "data = cur.fetchall()"
   ]
  },
  {
   "cell_type": "code",
   "execution_count": 59,
   "metadata": {},
   "outputs": [
    {
     "name": "stdout",
     "output_type": "stream",
     "text": [
      "5894\n"
     ]
    },
    {
     "data": {
      "text/plain": [
       "[(44, 'UCuSpT9CmyG-VaCgPYaGZpvg', 7),\n",
       " (54, 'UCbodID_baviD0N0YIdB3y2Q', 7),\n",
       " (103, 'UC5G4VJpKDow7hDl0ndQEpeg', 7)]"
      ]
     },
     "execution_count": 59,
     "metadata": {},
     "output_type": "execute_result"
    }
   ],
   "source": [
    "print(len(data))\n",
    "data[:3]"
   ]
  },
  {
   "cell_type": "code",
   "execution_count": null,
   "metadata": {},
   "outputs": [],
   "source": [
    "for idx, yt_id, cnt in tqdm(data):\n",
    "    request = youtube.channels().list(\n",
    "        part=\"snippet\",\n",
    "        id=yt_id\n",
    "    )\n",
    "    response = request.execute()\n",
    "    try:\n",
    "        cntr = response.get('items', [0])[0].get('snippet').get('country')\n",
    "        cur.execute('UPDATE authors SET country = ? WHERE id = ?', (cntr, idx))\n",
    "        db.commit()\n",
    "    except IndexError:\n",
    "        print(idx)"
   ]
  },
  {
   "cell_type": "code",
   "execution_count": 61,
   "metadata": {},
   "outputs": [],
   "source": [
    "db.commit()"
   ]
  }
 ],
 "metadata": {
  "kernelspec": {
   "display_name": "Python 3",
   "language": "python",
   "name": "python3"
  },
  "language_info": {
   "codemirror_mode": {
    "name": "ipython",
    "version": 3
   },
   "file_extension": ".py",
   "mimetype": "text/x-python",
   "name": "python",
   "nbconvert_exporter": "python",
   "pygments_lexer": "ipython3",
   "version": "3.6.9"
  }
 },
 "nbformat": 4,
 "nbformat_minor": 2
}
