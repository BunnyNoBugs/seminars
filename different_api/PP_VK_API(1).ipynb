{
 "cells": [
  {
   "cell_type": "markdown",
   "metadata": {},
   "source": [
    "## VK API\n",
    "\n",
    "API -- an Application Programming Interface, интерфейс или протокол коммуникации между клиентом и сервером, средство для автоматизированного обращения к приложению (сайту). Клиент делает запрос в определённом формате и получает ответ в определённом формате.\n",
    "\n",
    "У Twitter, VK, YouTube есть API -- большая удача для нас, лингвистов, так как мы заинтересованы в скачивании актуальных лингвистических данных. Сегодня будем работать с VK API.\n",
    "\n",
    "* Документация VK API: https://vk.com/dev/openapi\n",
    "\n",
    "* VK API был изначально придуман для создания веб-приложений на сторонних сайтах, которые могли бы взаимодействовать с vk.com\n",
    "\n",
    "* Мы будем его использовать для выкачивания текстов и метаинформации.\n",
    "\n",
    "* На сайте vk.com есть специальные страницы, которые не предназначены для того, чтобы их открывать браузером, они ожидают именно автоматического обращения. \n",
    "\n",
    "* Что значит автоматическое обращение? Это то самое, что мы проходили, когда учились выкачивать Интернет: программа на питоне (но в теории может быть и не на питоне) посылает серверу запрос, договаривается с ним и получает ответ.\n",
    "\n",
    "* Вспомним, что для произвольной страницы это выглядит так:"
   ]
  },
  {
   "cell_type": "code",
   "execution_count": 1,
   "metadata": {},
   "outputs": [
    {
     "name": "stdout",
     "output_type": "stream",
     "text": [
      "<!DOCTYPE html>\n",
      "<html lang=\"ru\" class=\"no-js\">\n",
      "  <head>\n",
      "    <meta http-equiv=\"content-type\" content=\"text/html; charset=utf-8\" />\n",
      "<meta content='width=1024' name='viewport'>\n",
      "<title>Лучшие публикации за сутки / \n"
     ]
    }
   ],
   "source": [
    "import urllib.request  # импортируем модуль\n",
    "req = urllib.request.Request('https://habrahabr.ru/') # посылаем запрос\n",
    "with urllib.request.urlopen(req) as response: # открываем соединение с сайтом\n",
    "    html = response.read().decode('utf-8') # \"читаем\" ответ сервера (сайта) в переменную html\n",
    "print(html[:210])"
   ]
  },
  {
   "cell_type": "markdown",
   "metadata": {},
   "source": [
    "* Для взаимодействия с vk.com нам потребуется тот же самый модуль urllib.request, а страницы, к которым мы будем обращаться, описаны в [документации VK API](https://vk.com/dev/openapi).\n",
    "* Инструкция по работе с VK API для начинающих разработчиков: https://vk.com/dev/first_guide\n",
    "* Но есть одна хитрость. Она в том, что страницы, к которым мы будем обращаться, ожидают не просто обращения, а передачи определённых параметров. Это логично: мы же должны сказать системе, что мы точно хотим сделать. Например, мы хотим получить какое-то количество записей со стены определённого пользователя. Тогда нужно сообщить, какой это пользователь. \n",
    "* Ссылка на создание приложения для токена: [https://vk.com/editapp?act=create\n",
    "](https://vk.com/editapp?act=create).\n",
    "\n",
    "\n",
    "#### Передача параметров\n",
    "\n",
    "* Как передать эти параметры сайту? \n",
    "* Для этого тоже есть стандартные средства, но уже не придуманные разработчиками сайта, а прописанные в протоколе HTTP давным-давно. Выглядит это так. В строке адреса, например, в браузере мы сначала пишем имя протокола (http или https), которое отделяется от всего, что идёт дальше последовательностью \"://\", потом пишется доменное имя (по сути, основной адрес сайта), к которому мы хотим обратиться (например, vk.com, после точки следует т.н. доменная зона), после косой черты далее следует адрес собственно страницы на сайте, к которой мы хотим обратиться: https://api.vk.com/method/wall.get \n",
    "* А вот после адреса страницы мы можем в той же адресной строке передать уже собственно параметры. \n",
    "* Место, где передаются параметры, отделяется от адреса страницы с помощью знака вопроса, а сами выглядят как пары ключ-значение, где ключ отделяется от значения с помощью знака равно: https://api.vk.com/method/wall.get?owner_id=1 \n",
    "* Здесь есть параметр ```owner_id```, который указывает на пользователя, стену которого мы хотим скачать, и значение этого параметра 1, то есть речь идёт об основателе соцсети и первом её пользователе Павле Дурове, страница которого открывается по адресу https://vk.com/id1. \n",
    "* Такой номер, то есть уникальный идентификатор (id) есть у каждого пользователя и у каждого сообщества.\n",
    "* Если есть необходимость передать сразу несколько параметров, то они должны отделяться друг от друга знаком \"амперсанд\", то есть ```&```: https://api.vk.com/method/wall.get?owner_id=1&count=10. Здесь появился второй параметр ```count```, который говорит, что мы хотим скачать именно 10 записей со стены пользователя.\n",
    "* Так же выглядит и строка адреса при поисковом запросе, например, в Яндексе: https://yandex.ru/search/?text=соцсети\n",
    "\n",
    "#### Авторизация\n",
    "\n",
    "* Чтобы получить доступ к контенту Вконтакте, пользователь должен авторизоваться. То же самое и с приложением: мы не можем отправлять запросы просто так, для этого нужно зарегистрировать приложение и получить т.н. сервисный токен — ключ доступа, по которому VK API будет отдавать нам информацию. Это сделано для защиты данных.\n",
    "\n",
    "* Сервисный токен выглядит примерно так: 8423c2448423c2448423c244d08441f2a1884238423c244dee1644d9e90529494134bf8. Он действует сутки, после чего нужно получить новый токен на странице настроек приложения. Токен указывается в параметре ```access_token``` для любого запроса.\n",
    "* Как получить токен, написано [здесь](https://vk.com/dev/first_guide?f=3.%20%D0%90%D0%B2%D1%82%D0%BE%D1%80%D0%B8%D0%B7%D0%B0%D1%86%D0%B8%D1%8F%20%D0%BF%D0%BE%D0%BB%D1%8C%D0%B7%D0%BE%D0%B2%D0%B0%D1%82%D0%B5%D0%BB%D1%8F). Надо создать приложение, зайти в настройки и скопировать токен.\n",
    "\n",
    "#### Версии API\n",
    "\n",
    "* VK API постоянно развивается: вместе с появлением новых функций в самой соцсети появляются и новые методы для программной работы с ними. \n",
    "\n",
    "* Версию API также необходимо указывать в любом запросе; за это отвечает параметр ```v```, например ```v=5.52```. \n",
    "\n",
    "* Последня версия на данный момент — 5.103, а полный их список можно посмотреть [здесь](https://vk.com/dev/versions).\n",
    "\n",
    "#### Поехали!\n",
    "\n",
    "* Для начала, давайте скачаем 20 постов со стены Павла Дурова. \n",
    "\n",
    "* Какой метод будем использовать? Список всех методов: https://vk.com/dev/methods\n",
    "\n",
    "* Чтобы скачивать записи со стен, у нас есть специальный метод VK API, он называется ```wall.get``` и выглядит как специальная страница на сайте vk.com: https://api.vk.com/method/wall.get \n",
    "\n",
    "* Как работает этот метод, рассказано на его странице в документации: https://vk.com/dev/wall.get Среди полезного там есть список обязательных параметров, которые нужно передать методу, чтобы он сработал.\n",
    "\n",
    "* Часть адреса https://api.vk.com/method/ можно запомнить. Все остальные методы просто добавляются к нему: https://api.vk.com/method/wall.getComments, https://api.vk.com/method/wall.getById и т.д."
   ]
  },
  {
   "cell_type": "code",
   "execution_count": 6,
   "metadata": {},
   "outputs": [],
   "source": [
    "import requests"
   ]
  },
  {
   "cell_type": "code",
   "execution_count": 5,
   "metadata": {},
   "outputs": [],
   "source": [
    "TOKEN = 'your-token-here'"
   ]
  },
  {
   "cell_type": "code",
   "execution_count": 17,
   "metadata": {},
   "outputs": [],
   "source": [
    "data = requests.get(\n",
    "    'https://api.vk.com/method/wall.get', \n",
    "    params={\n",
    "        \"owner_id\": 1,\n",
    "        \"count\": 2,\n",
    "        \"v\":\"5.92\",\n",
    "        \"access_token\": TOKEN\n",
    "        \n",
    "    }\n",
    ").json()"
   ]
  },
  {
   "cell_type": "code",
   "execution_count": 18,
   "metadata": {
    "scrolled": false
   },
   "outputs": [
    {
     "data": {
      "text/plain": [
       "{'response': {'count': 283,\n",
       "  'items': [{'id': 2442097,\n",
       "    'from_id': 1,\n",
       "    'owner_id': 1,\n",
       "    'date': 1525805964,\n",
       "    'post_type': 'post',\n",
       "    'text': 'Иногда говорят, что Telegram был заблокирован в России, так как “закон есть закон”. Однако Telegram заблокирован в России как раз вопреки главному закону страны – Конституции. Решения судов и законы, противоречащие Конституции, не имеют силы. А это значит, что и сама блокировка Telegram незаконна. \\n\\nЕсли бы ФСБ ограничилась запросом информации о нескольких террористах, то ее требование вписывалось бы в рамки Конституции. Однако речь идет о передаче универсальных ключей шифрования с целью последующего бесконтрольного доступа к переписке неограниченного круга лиц. A это – прямое нарушение 23-й статьи Конституции о праве каждого на тайну переписки.\\n\\nПо этой причине юристы из “Агоры” сегодня обжаловали решение Верховного суда России о законности приказа ФСБ. Надеюсь, власти России откажутся от языка неисполнимых ультиматумов, на котором сегодня ведется диалог с технологическими компаниями.\\n\\nНезависимо от этого, мы продолжим борьбу за Telegram в России. История наших предков учит биться до победного конца. \\n\\nС Днем Победы!',\n",
       "    'post_source': {'type': 'vk'},\n",
       "    'comments': {'count': 461587, 'can_post': 1, 'groups_can_post': True},\n",
       "    'likes': {'count': 165313,\n",
       "     'user_likes': 0,\n",
       "     'can_like': 1,\n",
       "     'can_publish': 1},\n",
       "    'reposts': {'count': 3428, 'user_reposted': 0},\n",
       "    'views': {'count': 9315906}},\n",
       "   {'id': 2431591,\n",
       "    'from_id': 1,\n",
       "    'owner_id': 1,\n",
       "    'date': 1525352753,\n",
       "    'post_type': 'post',\n",
       "    'text': 'Михаил Светов, организатор прошедшего митинга за свободу интернета, объявил конкурс на наиболее вдохновляющую обработку видеоматериалов с митинга. Призовой фонд – 1 биткоин.\\n\\n#digitalresistance',\n",
       "    'attachments': [{'type': 'video',\n",
       "      'video': {'access_key': 'b6751e4a53ef7bd286',\n",
       "       'can_comment': 0,\n",
       "       'can_like': 1,\n",
       "       'can_repost': 1,\n",
       "       'can_subscribe': 1,\n",
       "       'can_add_to_faves': 1,\n",
       "       'can_add': 1,\n",
       "       'comments': 125,\n",
       "       'date': 1525352754,\n",
       "       'description': 'Мне пришёл целевой анонимный донат на проведение конкурса. Разыгрываю целый биткоин [не кликбейт, на самом деле].\\n\\nКонкурс на лучшую видео и аудио обработку речей и кадров с митинга 30 апреля. Подходит любой формат, главное, в максимально мемичной форме распространить основные тезисы наших выступлений по интернету, и обратить внимание на критическую значимость блокировок. Все слова сказаны. Их нужно донести. Срок — 10 дней. Постите свои видео с хэштегом #digitalresistance во всех соцсетях и присылайте ссылк',\n",
       "       'duration': 113,\n",
       "       'photo_130': 'https://sun1-89.userapi.com/c840722/v840722964/8039f/kunM7m6I7w4.jpg',\n",
       "       'photo_320': 'https://sun1-95.userapi.com/c840722/v840722964/803a1/OGFig-5UNjY.jpg',\n",
       "       'photo_640': 'https://sun1-23.userapi.com/c840722/v840722964/803a2/T2SKhzbHheQ.jpg',\n",
       "       'photo_800': 'https://sun1-23.userapi.com/c840722/v840722964/803a2/T2SKhzbHheQ.jpg',\n",
       "       'id': 456239033,\n",
       "       'owner_id': 1,\n",
       "       'title': 'КОНКУРС НА БИТКОИН',\n",
       "       'track_code': 'video_766dbe0cWtHiM79hDX2CF7zifOCtwNYhVG-ODzbSgbMs7PhCgqhY2tM',\n",
       "       'views': 46312,\n",
       "       'local_views': 46312,\n",
       "       'platform': 'YouTube'}}],\n",
       "    'post_source': {'type': 'vk'},\n",
       "    'comments': {'count': 13706, 'can_post': 1, 'groups_can_post': True},\n",
       "    'likes': {'count': 20048,\n",
       "     'user_likes': 0,\n",
       "     'can_like': 1,\n",
       "     'can_publish': 1},\n",
       "    'reposts': {'count': 298, 'user_reposted': 0},\n",
       "    'views': {'count': 4809521}}]}}"
      ]
     },
     "execution_count": 18,
     "metadata": {},
     "output_type": "execute_result"
    }
   ],
   "source": [
    "data"
   ]
  },
  {
   "cell_type": "markdown",
   "metadata": {},
   "source": [
    "Если вглядеться, то выйдет, что это просто питоновский словарь с ключом \"response\" и значением в виде другого словаря. Но так ли это?"
   ]
  },
  {
   "cell_type": "markdown",
   "metadata": {},
   "source": [
    "#### Извлечение информации\n",
    "\n",
    "* Мы получили какой-то ответ от API и даже превратили его в структуру данных, с которой удобно работать в питоне. \n",
    "\n",
    "* Но что в этой структуре лежит? Обычно это json, в котором всё устроено как вложенные друг в друга словари и массивы, где ключи — это какое-то общепонятное слово, а значение — собственно информация. \n",
    "\n",
    "* Подробно это описано в документации к API, но часто всё понятно и без дополнительных объяснений. \n",
    "\n",
    "* В переменной ```data``` лежит словарь со всеми данными, которые получили в ответ на запрос: ключ в этом словаре — ```response```, а значение — другой словарь с параметрами ответа. Одним из ключей является ```items```, а его значение — список с нашими постами и всех их параметрами."
   ]
  },
  {
   "cell_type": "code",
   "execution_count": 20,
   "metadata": {},
   "outputs": [
    {
     "data": {
      "text/plain": [
       "{'id': 2442097,\n",
       " 'from_id': 1,\n",
       " 'owner_id': 1,\n",
       " 'date': 1525805964,\n",
       " 'post_type': 'post',\n",
       " 'text': 'Иногда говорят, что Telegram был заблокирован в России, так как “закон есть закон”. Однако Telegram заблокирован в России как раз вопреки главному закону страны – Конституции. Решения судов и законы, противоречащие Конституции, не имеют силы. А это значит, что и сама блокировка Telegram незаконна. \\n\\nЕсли бы ФСБ ограничилась запросом информации о нескольких террористах, то ее требование вписывалось бы в рамки Конституции. Однако речь идет о передаче универсальных ключей шифрования с целью последующего бесконтрольного доступа к переписке неограниченного круга лиц. A это – прямое нарушение 23-й статьи Конституции о праве каждого на тайну переписки.\\n\\nПо этой причине юристы из “Агоры” сегодня обжаловали решение Верховного суда России о законности приказа ФСБ. Надеюсь, власти России откажутся от языка неисполнимых ультиматумов, на котором сегодня ведется диалог с технологическими компаниями.\\n\\nНезависимо от этого, мы продолжим борьбу за Telegram в России. История наших предков учит биться до победного конца. \\n\\nС Днем Победы!',\n",
       " 'post_source': {'type': 'vk'},\n",
       " 'comments': {'count': 461587, 'can_post': 1, 'groups_can_post': True},\n",
       " 'likes': {'count': 165313, 'user_likes': 0, 'can_like': 1, 'can_publish': 1},\n",
       " 'reposts': {'count': 3428, 'user_reposted': 0},\n",
       " 'views': {'count': 9315906}}"
      ]
     },
     "execution_count": 20,
     "metadata": {},
     "output_type": "execute_result"
    }
   ],
   "source": [
    "data['response']['items'][0]"
   ]
  },
  {
   "cell_type": "markdown",
   "metadata": {},
   "source": [
    "* Извлечём текст первого поста:"
   ]
  },
  {
   "cell_type": "code",
   "execution_count": 21,
   "metadata": {},
   "outputs": [
    {
     "data": {
      "text/plain": [
       "'Иногда говорят, что Telegram был заблокирован в России, так как “закон есть закон”. Однако Telegram заблокирован в России как раз вопреки главному закону страны – Конституции. Решения судов и законы, противоречащие Конституции, не имеют силы. А это значит, что и сама блокировка Telegram незаконна. \\n\\nЕсли бы ФСБ ограничилась запросом информации о нескольких террористах, то ее требование вписывалось бы в рамки Конституции. Однако речь идет о передаче универсальных ключей шифрования с целью последующего бесконтрольного доступа к переписке неограниченного круга лиц. A это – прямое нарушение 23-й статьи Конституции о праве каждого на тайну переписки.\\n\\nПо этой причине юристы из “Агоры” сегодня обжаловали решение Верховного суда России о законности приказа ФСБ. Надеюсь, власти России откажутся от языка неисполнимых ультиматумов, на котором сегодня ведется диалог с технологическими компаниями.\\n\\nНезависимо от этого, мы продолжим борьбу за Telegram в России. История наших предков учит биться до победного конца. \\n\\nС Днем Победы!'"
      ]
     },
     "execution_count": 21,
     "metadata": {},
     "output_type": "execute_result"
    }
   ],
   "source": [
    "data['response']['items'][0]['text']"
   ]
  },
  {
   "cell_type": "markdown",
   "metadata": {},
   "source": [
    "* Получилось! А как достать текст репоста?\n",
    "\n",
    "* Вся информация об оригинальном посте, который репостнул наш пользователь, находится в параметре ```copy_history```. Это ключ словаря, который мы достаем из списка ```items``` по индексу.\n",
    "\n",
    "* Значение этого ключа — тоже список, в котором будут \"уровни репоста\" (т.е. просто репост, репост репоста, репост репоста репоста и т.д.). У нас репост оригинальной записи, т.е. первого уровня, так что пишем индекс 0.\n",
    "\n",
    "* По этому индексу лежит словарь со всеми параметрами, из которых нам нужен уже знакомый ```text```."
   ]
  },
  {
   "cell_type": "code",
   "execution_count": 23,
   "metadata": {},
   "outputs": [],
   "source": [
    "data = requests.get(\n",
    "    'https://api.vk.com/method/wall.get', \n",
    "    params={\n",
    "        \"owner_id\": 1,\n",
    "        \"count\": 20,\n",
    "        \"v\":\"5.92\",\n",
    "        \"access_token\": TOKEN\n",
    "        \n",
    "    }\n",
    ").json()"
   ]
  },
  {
   "cell_type": "code",
   "execution_count": 25,
   "metadata": {
    "scrolled": false
   },
   "outputs": [
    {
     "data": {
      "text/plain": [
       "{'id': 2236210,\n",
       " 'from_id': 1,\n",
       " 'owner_id': 1,\n",
       " 'date': 1519549711,\n",
       " 'post_type': 'post',\n",
       " 'text': '',\n",
       " 'copy_history': [{'id': 30344,\n",
       "   'owner_id': -35769930,\n",
       "   'from_id': -35769930,\n",
       "   'date': 1519520066,\n",
       "   'post_type': 'post',\n",
       "   'text': 'Сегодня ВКонтакте запустил набор «Election girl», полностью срисовав стикеры с моих. Получилось, правда, не очень, но не отчаивайся, дорогой автор! Пару лет срисовки моих стикеров и ты станешь даже вполне себе ничего - у меня их очень много. 😌\\n\\nХочешь по-взрослому? Работай сам, а не сиди на чужой шее, как пиявка. По иронии судьбы этот набор посвящен выборам и призывает повзрослеть. \\n\\nОригинальный набор тут: t.me/addstickers/pinup_girl\\n💕',\n",
       "   'attachments': [{'type': 'photo',\n",
       "     'photo': {'id': 456239215,\n",
       "      'album_id': -7,\n",
       "      'owner_id': -35769930,\n",
       "      'user_id': 100,\n",
       "      'sizes': [{'type': 'm',\n",
       "        'url': 'https://sun9-62.userapi.com/c824503/v824503538/cfa91/lkMea8ehuJA.jpg',\n",
       "        'width': 130,\n",
       "        'height': 92},\n",
       "       {'type': 'o',\n",
       "        'url': 'https://sun9-25.userapi.com/c824503/v824503538/cfa93/0ek4PTEofLw.jpg',\n",
       "        'width': 130,\n",
       "        'height': 92},\n",
       "       {'type': 'p',\n",
       "        'url': 'https://sun9-30.userapi.com/c824503/v824503538/cfa94/NjaGxeohRBk.jpg',\n",
       "        'width': 200,\n",
       "        'height': 141},\n",
       "       {'type': 'q',\n",
       "        'url': 'https://sun9-23.userapi.com/c824503/v824503538/cfa95/i1UwI5nop2s.jpg',\n",
       "        'width': 320,\n",
       "        'height': 226},\n",
       "       {'type': 'r',\n",
       "        'url': 'https://sun9-4.userapi.com/c824503/v824503538/cfa96/AQlm-6NOxyM.jpg',\n",
       "        'width': 510,\n",
       "        'height': 360},\n",
       "       {'type': 's',\n",
       "        'url': 'https://sun9-67.userapi.com/c824503/v824503538/cfa90/EreWNC9mgj4.jpg',\n",
       "        'width': 75,\n",
       "        'height': 53},\n",
       "       {'type': 'x',\n",
       "        'url': 'https://sun9-56.userapi.com/c824503/v824503538/cfa92/zCbJn0iygCE.jpg',\n",
       "        'width': 524,\n",
       "        'height': 370}],\n",
       "      'text': '',\n",
       "      'date': 1519520066,\n",
       "      'access_key': 'a48f44fbbab4802f8c'}},\n",
       "    {'type': 'photo',\n",
       "     'photo': {'id': 456239216,\n",
       "      'album_id': -7,\n",
       "      'owner_id': -35769930,\n",
       "      'user_id': 100,\n",
       "      'sizes': [{'type': 'm',\n",
       "        'url': 'https://sun1-94.userapi.com/c824503/v824503538/cfa8a/vltV2SSpc7E.jpg',\n",
       "        'width': 130,\n",
       "        'height': 92},\n",
       "       {'type': 'o',\n",
       "        'url': 'https://sun1-86.userapi.com/c824503/v824503538/cfa8c/UXtsy0gRq0c.jpg',\n",
       "        'width': 130,\n",
       "        'height': 92},\n",
       "       {'type': 'p',\n",
       "        'url': 'https://sun1-96.userapi.com/c824503/v824503538/cfa8d/a3RTr4JKGMs.jpg',\n",
       "        'width': 200,\n",
       "        'height': 141},\n",
       "       {'type': 'q',\n",
       "        'url': 'https://sun1-16.userapi.com/c824503/v824503538/cfa8e/v74fHOaKrhs.jpg',\n",
       "        'width': 320,\n",
       "        'height': 226},\n",
       "       {'type': 'r',\n",
       "        'url': 'https://sun1-17.userapi.com/c824503/v824503538/cfa8f/YjvF6eslIzk.jpg',\n",
       "        'width': 510,\n",
       "        'height': 360},\n",
       "       {'type': 's',\n",
       "        'url': 'https://sun1-96.userapi.com/c824503/v824503538/cfa89/p71fhfZ8-Mo.jpg',\n",
       "        'width': 75,\n",
       "        'height': 53},\n",
       "       {'type': 'x',\n",
       "        'url': 'https://sun1-29.userapi.com/c824503/v824503538/cfa8b/oBN7hoNR1xQ.jpg',\n",
       "        'width': 524,\n",
       "        'height': 370}],\n",
       "      'text': '',\n",
       "      'date': 1519520066,\n",
       "      'access_key': '17d876b8a46e3223fc'}},\n",
       "    {'type': 'photo',\n",
       "     'photo': {'id': 456239217,\n",
       "      'album_id': -7,\n",
       "      'owner_id': -35769930,\n",
       "      'user_id': 100,\n",
       "      'sizes': [{'type': 'm',\n",
       "        'url': 'https://sun1-18.userapi.com/c824503/v824503538/cfa98/Dx2fJmedw5U.jpg',\n",
       "        'width': 130,\n",
       "        'height': 92},\n",
       "       {'type': 'o',\n",
       "        'url': 'https://sun1-94.userapi.com/c824503/v824503538/cfa9a/W1epMq1GSC0.jpg',\n",
       "        'width': 130,\n",
       "        'height': 92},\n",
       "       {'type': 'p',\n",
       "        'url': 'https://sun1-16.userapi.com/c824503/v824503538/cfa9b/Z8OwHC2TJnU.jpg',\n",
       "        'width': 200,\n",
       "        'height': 141},\n",
       "       {'type': 'q',\n",
       "        'url': 'https://sun1-93.userapi.com/c824503/v824503538/cfa9c/jY2jzQrvdZk.jpg',\n",
       "        'width': 320,\n",
       "        'height': 226},\n",
       "       {'type': 'r',\n",
       "        'url': 'https://sun1-83.userapi.com/c824503/v824503538/cfa9d/2nMv6Ehaqn4.jpg',\n",
       "        'width': 510,\n",
       "        'height': 360},\n",
       "       {'type': 's',\n",
       "        'url': 'https://sun1-90.userapi.com/c824503/v824503538/cfa97/9MBiG28Ht1c.jpg',\n",
       "        'width': 75,\n",
       "        'height': 53},\n",
       "       {'type': 'x',\n",
       "        'url': 'https://sun1-85.userapi.com/c824503/v824503538/cfa99/OKrx6uAzo7Y.jpg',\n",
       "        'width': 524,\n",
       "        'height': 370}],\n",
       "      'text': '',\n",
       "      'date': 1519520066,\n",
       "      'access_key': '7a16532dfd9dd87ab2'}},\n",
       "    {'type': 'photo',\n",
       "     'photo': {'id': 456239218,\n",
       "      'album_id': -7,\n",
       "      'owner_id': -35769930,\n",
       "      'user_id': 100,\n",
       "      'sizes': [{'type': 'm',\n",
       "        'url': 'https://sun9-60.userapi.com/c824503/v824503538/cfa83/p-699MHN-JA.jpg',\n",
       "        'width': 130,\n",
       "        'height': 92},\n",
       "       {'type': 'o',\n",
       "        'url': 'https://sun9-2.userapi.com/c824503/v824503538/cfa85/2dk7AuAFfYU.jpg',\n",
       "        'width': 130,\n",
       "        'height': 92},\n",
       "       {'type': 'p',\n",
       "        'url': 'https://sun9-66.userapi.com/c824503/v824503538/cfa86/62JtBBTJYHY.jpg',\n",
       "        'width': 200,\n",
       "        'height': 141},\n",
       "       {'type': 'q',\n",
       "        'url': 'https://sun9-8.userapi.com/c824503/v824503538/cfa87/SlmnZNj1Pks.jpg',\n",
       "        'width': 320,\n",
       "        'height': 226},\n",
       "       {'type': 'r',\n",
       "        'url': 'https://sun9-69.userapi.com/c824503/v824503538/cfa88/xVIMW5MqVBE.jpg',\n",
       "        'width': 510,\n",
       "        'height': 360},\n",
       "       {'type': 's',\n",
       "        'url': 'https://sun9-56.userapi.com/c824503/v824503538/cfa82/OFw5ND5l6z4.jpg',\n",
       "        'width': 75,\n",
       "        'height': 53},\n",
       "       {'type': 'x',\n",
       "        'url': 'https://sun9-23.userapi.com/c824503/v824503538/cfa84/RhWbp9eFklk.jpg',\n",
       "        'width': 524,\n",
       "        'height': 370}],\n",
       "      'text': '',\n",
       "      'date': 1519520066,\n",
       "      'access_key': 'e68df7a7c76be10594'}},\n",
       "    {'type': 'photo',\n",
       "     'photo': {'id': 456239220,\n",
       "      'album_id': -7,\n",
       "      'owner_id': -35769930,\n",
       "      'user_id': 100,\n",
       "      'sizes': [{'type': 'm',\n",
       "        'url': 'https://sun9-59.userapi.com/c830408/v830408556/8cf8c/xFEGH7SnXgg.jpg',\n",
       "        'width': 130,\n",
       "        'height': 92},\n",
       "       {'type': 'o',\n",
       "        'url': 'https://sun9-14.userapi.com/c830408/v830408556/8cf8e/FjA6lwXFvSU.jpg',\n",
       "        'width': 130,\n",
       "        'height': 92},\n",
       "       {'type': 'p',\n",
       "        'url': 'https://sun9-30.userapi.com/c830408/v830408556/8cf8f/RwP-lhZ8XRA.jpg',\n",
       "        'width': 200,\n",
       "        'height': 141},\n",
       "       {'type': 'q',\n",
       "        'url': 'https://sun9-59.userapi.com/c830408/v830408556/8cf90/piZdy0NRn10.jpg',\n",
       "        'width': 320,\n",
       "        'height': 226},\n",
       "       {'type': 'r',\n",
       "        'url': 'https://sun9-24.userapi.com/c830408/v830408556/8cf91/BJq-Xy74Jn0.jpg',\n",
       "        'width': 510,\n",
       "        'height': 360},\n",
       "       {'type': 's',\n",
       "        'url': 'https://sun9-12.userapi.com/c830408/v830408556/8cf8b/gWHRp1EYhpo.jpg',\n",
       "        'width': 75,\n",
       "        'height': 53},\n",
       "       {'type': 'x',\n",
       "        'url': 'https://sun9-28.userapi.com/c830408/v830408556/8cf8d/Qk4tzgPb3tA.jpg',\n",
       "        'width': 524,\n",
       "        'height': 370}],\n",
       "      'text': '',\n",
       "      'date': 1519523929,\n",
       "      'access_key': '0894b321edf007b026'}},\n",
       "    {'type': 'link',\n",
       "     'link': {'url': 'http://t.me',\n",
       "      'title': 'Telegram – a new era of messaging',\n",
       "      'description': '',\n",
       "      'target': 'internal',\n",
       "      'photo': {'id': 456239123,\n",
       "       'album_id': -2,\n",
       "       'owner_id': 100,\n",
       "       'sizes': [{'type': 'm',\n",
       "         'url': 'https://sun9-41.userapi.com/c840629/v840629865/58b0e/Bpzq42bY9Lg.jpg',\n",
       "         'width': 130,\n",
       "         'height': 130},\n",
       "        {'type': 's',\n",
       "         'url': 'https://sun9-23.userapi.com/c840629/v840629865/58b0d/YHJSk3TlX6s.jpg',\n",
       "         'width': 75,\n",
       "         'height': 75},\n",
       "        {'type': 'x',\n",
       "         'url': 'https://sun9-72.userapi.com/c840629/v840629865/58b0f/dReJxmEWgf4.jpg',\n",
       "         'width': 150,\n",
       "         'height': 150}],\n",
       "       'text': '',\n",
       "       'date': 1519196573}}}],\n",
       "   'post_source': {'type': 'vk'}}],\n",
       " 'post_source': {'type': 'vk'},\n",
       " 'comments': {'count': 36630, 'can_post': 1, 'groups_can_post': True},\n",
       " 'likes': {'count': 15991, 'user_likes': 0, 'can_like': 1, 'can_publish': 1},\n",
       " 'reposts': {'count': 235, 'user_reposted': 0},\n",
       " 'views': {'count': 2379681}}"
      ]
     },
     "execution_count": 25,
     "metadata": {},
     "output_type": "execute_result"
    }
   ],
   "source": [
    "data['response']['items'][18]"
   ]
  },
  {
   "cell_type": "code",
   "execution_count": 24,
   "metadata": {},
   "outputs": [
    {
     "data": {
      "text/plain": [
       "'Сегодня ВКонтакте запустил набор «Election girl», полностью срисовав стикеры с моих. Получилось, правда, не очень, но не отчаивайся, дорогой автор! Пару лет срисовки моих стикеров и ты станешь даже вполне себе ничего - у меня их очень много. 😌\\n\\nХочешь по-взрослому? Работай сам, а не сиди на чужой шее, как пиявка. По иронии судьбы этот набор посвящен выборам и призывает повзрослеть. \\n\\nОригинальный набор тут: t.me/addstickers/pinup_girl\\n💕'"
      ]
     },
     "execution_count": 24,
     "metadata": {},
     "output_type": "execute_result"
    }
   ],
   "source": [
    "data['response']['items'][18]['copy_history'][0]['text']"
   ]
  },
  {
   "cell_type": "markdown",
   "metadata": {},
   "source": [
    "* Иногда нам нужны даты постов. VK API отдает их в формате ```unixtime```, который для нас выглядит как ничего не значащий набор цифр. Чтобы сконвертировать его в привычную дату, можно использовать стандартную библиотеку ```datetime```."
   ]
  },
  {
   "cell_type": "code",
   "execution_count": 26,
   "metadata": {},
   "outputs": [
    {
     "name": "stdout",
     "output_type": "stream",
     "text": [
      "2018-05-03 16:05:53\n"
     ]
    }
   ],
   "source": [
    "from datetime import datetime\n",
    "\n",
    "unixtime = data['response']['items'][1]['date'] # extracting the time info\n",
    "utc = datetime.fromtimestamp(unixtime) # converting unixtime into utc\n",
    "print(utc)"
   ]
  },
  {
   "cell_type": "markdown",
   "metadata": {},
   "source": [
    "* Давайте нарисуем облако слов второго поста:"
   ]
  },
  {
   "cell_type": "code",
   "execution_count": 29,
   "metadata": {},
   "outputs": [
    {
     "data": {
      "image/png": "[encoded data removed]",
      "text/plain": [
       "<Figure size 432x288 with 1 Axes>"
      ]
     },
     "metadata": {
      "needs_background": "light"
     },
     "output_type": "display_data"
    }
   ],
   "source": [
    "from PIL import Image\n",
    "import numpy as np\n",
    "import matplotlib.pyplot as plt\n",
    "from wordcloud import WordCloud, STOPWORDS\n",
    "\n",
    "text = data['response']['items'][1]['text']\n",
    "\n",
    "# comment_mask = np.array(Image.open(\"C:\\!!_info_!!\\Desktop\\Free_Blue_Star.jpg\"))\n",
    "\n",
    "stopwords = set(STOPWORDS)\n",
    "stopwords.add(\"Светов\")\n",
    "stopwords.add(\"Михаил\")\n",
    "\n",
    "cloud = WordCloud(\n",
    "    background_color=\"white\", \n",
    "    max_words=2000, \n",
    "#     mask=comment_mask, \n",
    "    stopwords=stopwords, \n",
    "#     contour_width=5, \n",
    "#     contour_color='steelblue'\n",
    ")\n",
    "\n",
    "\n",
    "cloud.generate(text)\n",
    "\n",
    "plt.imshow(cloud, interpolation='bilinear')\n",
    "plt.axis(\"off\")\n",
    "plt.show()\n",
    "\n",
    "cloud.to_file(\"post_cloud.png\");\n",
    "# the real size of the picture\n",
    "#Image.open(\"post_cloud.png\")"
   ]
  },
  {
   "cell_type": "markdown",
   "metadata": {},
   "source": [
    "* Можем ли мы скачать комментарии? Да, для этого есть метод -- https://vk.com/dev/wall.getComments\n",
    "* В документации по ссылке перечислены обязательные параметры, а также приведен пример запроса и ответа на него. В документации есть такое описание для любого метода.\n",
    "* Ему нужно передавать идентификаторы записи, комментарии к которой мы хотим получить (эти идентификаторы нам поставляет метод ```wall.get```).\n",
    "* Чтобы получить ```post_id```, кликните на дату поста, Вы увидите что-то типа https://vk.com/id1?w=wall1_2442097, скопируйте последнее число, в данном случае, 2442097"
   ]
  },
  {
   "cell_type": "code",
   "execution_count": 30,
   "metadata": {},
   "outputs": [],
   "source": [
    "data = requests.get(\n",
    "    'https://api.vk.com/method/wall.getComments', \n",
    "    params={\n",
    "        \"owner_id\": 1,\n",
    "        \"post_id\": 2442097,\n",
    "        \"count\": 2,\n",
    "        \"need_likes\": 1,\n",
    "        \"v\":\"5.92\",\n",
    "        \"access_token\": TOKEN\n",
    "    }\n",
    ").json()"
   ]
  },
  {
   "cell_type": "code",
   "execution_count": 32,
   "metadata": {},
   "outputs": [
    {
     "data": {
      "text/plain": [
       "{'response': {'count': 461588,\n",
       "  'items': [{'id': 2442098,\n",
       "    'parents_stack': [],\n",
       "    'date': 1525805968,\n",
       "    'thread': {'count': 190,\n",
       "     'items': [],\n",
       "     'can_post': True,\n",
       "     'show_reply_button': True,\n",
       "     'groups_can_post': True},\n",
       "    'deleted': True},\n",
       "   {'id': 2442100,\n",
       "    'from_id': 243752050,\n",
       "    'post_id': 2442097,\n",
       "    'owner_id': 1,\n",
       "    'parents_stack': [],\n",
       "    'date': 1525805970,\n",
       "    'text': 'Ну чо пасаны,цифровое сопротивление\\nUPD:Го 1К лайков? :D\\nUPDD:Чувак сверху спиздил с сохраненки.крыса!!!',\n",
       "    'likes': {'count': 4209, 'user_likes': 0, 'can_like': 1},\n",
       "    'attachments': [{'type': 'photo',\n",
       "      'photo': {'id': 456244482,\n",
       "       'album_id': -5,\n",
       "       'owner_id': 243752050,\n",
       "       'sizes': [{'type': 'm',\n",
       "         'url': 'https://sun9-47.userapi.com/c850632/v850632550/9685d/LbqEM027b5A.jpg',\n",
       "         'width': 119,\n",
       "         'height': 130},\n",
       "        {'type': 'o',\n",
       "         'url': 'https://sun9-16.userapi.com/c850632/v850632550/96861/wapqg-NHEdE.jpg',\n",
       "         'width': 130,\n",
       "         'height': 142},\n",
       "        {'type': 'p',\n",
       "         'url': 'https://sun9-55.userapi.com/c850632/v850632550/96862/VnAlnZcwMgc.jpg',\n",
       "         'width': 200,\n",
       "         'height': 219},\n",
       "        {'type': 'q',\n",
       "         'url': 'https://sun9-15.userapi.com/c850632/v850632550/96863/SjrgzKy52HU.jpg',\n",
       "         'width': 320,\n",
       "         'height': 350},\n",
       "        {'type': 'r',\n",
       "         'url': 'https://sun9-56.userapi.com/c850632/v850632550/96864/HPIeAFCMaz4.jpg',\n",
       "         'width': 510,\n",
       "         'height': 558},\n",
       "        {'type': 's',\n",
       "         'url': 'https://sun9-60.userapi.com/c850632/v850632550/9685c/1NTxUqK7lnA.jpg',\n",
       "         'width': 69,\n",
       "         'height': 75},\n",
       "        {'type': 'x',\n",
       "         'url': 'https://sun9-53.userapi.com/c850632/v850632550/9685e/kBEOX4AOOIo.jpg',\n",
       "         'width': 552,\n",
       "         'height': 604},\n",
       "        {'type': 'y',\n",
       "         'url': 'https://sun9-63.userapi.com/c850632/v850632550/9685f/gQwFzGyZ3nw.jpg',\n",
       "         'width': 737,\n",
       "         'height': 807},\n",
       "        {'type': 'z',\n",
       "         'url': 'https://sun9-48.userapi.com/c850632/v850632550/96860/Ezov7Jtfc2E.jpg',\n",
       "         'width': 750,\n",
       "         'height': 821}],\n",
       "       'text': '',\n",
       "       'date': 1525806506,\n",
       "       'access_key': 'e13021f278115f48a8'}}],\n",
       "    'thread': {'count': 114,\n",
       "     'items': [],\n",
       "     'can_post': True,\n",
       "     'show_reply_button': True,\n",
       "     'groups_can_post': True}}],\n",
       "  'current_level_count': 393272,\n",
       "  'can_post': True,\n",
       "  'show_reply_button': True,\n",
       "  'groups_can_post': True}}"
      ]
     },
     "execution_count": 32,
     "metadata": {},
     "output_type": "execute_result"
    }
   ],
   "source": [
    "data"
   ]
  },
  {
   "cell_type": "markdown",
   "metadata": {},
   "source": [
    "#### Задание\n",
    "\n",
    "* Выкачайте посты или комментарии со своей стены / со стены друга / какого-нибудь сообщества, составьте частотный словарь и визуализируйтетоп 20-30 на графике.\n",
    "\n",
    "* NB! У сообществ ```id``` начинаются с дефиса — например, ```owner_id=-1``` соответствует идентификатору сообщества ВКонтакте API (club1).\n",
    "\n",
    "* Можно лемматизировать полученные данные. Тогда, сильно ли отличается верхушка частотного списка без лемматизации и с лемматизацией?\n",
    "\n",
    "* Какие части речи чаще всего употребляются в выкачанных вами постах? Можно тоже визуализировать их распределение.\n",
    "\n",
    "* Можно почистить тексты от пунктуации и стоп-слов. Смайлики можно не убирать — вдруг какой-то из них окажется на верхушке частотного списка? А что если посмотреть частотность употребления смайликов? Достать их можно с помощью регулярок, посмотрев их диапазон в [юникодной таблице](https://ru.wikipedia.org/wiki/%D0%AD%D0%BC%D0%BE%D1%82%D0%B8%D0%BA%D0%BE%D0%BD%D1%8B_(%D0%B1%D0%BB%D0%BE%D0%BA_%D0%AE%D0%BD%D0%B8%D0%BA%D0%BE%D0%B4%D0%B0).\n",
    "\n"
   ]
  },
  {
   "cell_type": "code",
   "execution_count": null,
   "metadata": {},
   "outputs": [],
   "source": []
  }
 ],
 "metadata": {
  "kernelspec": {
   "display_name": "Python 3",
   "language": "python",
   "name": "python3"
  },
  "language_info": {
   "codemirror_mode": {
    "name": "ipython",
    "version": 3
   },
   "file_extension": ".py",
   "mimetype": "text/x-python",
   "name": "python",
   "nbconvert_exporter": "python",
   "pygments_lexer": "ipython3",
   "version": "3.6.9"
  }
 },
 "nbformat": 4,
 "nbformat_minor": 2
}
