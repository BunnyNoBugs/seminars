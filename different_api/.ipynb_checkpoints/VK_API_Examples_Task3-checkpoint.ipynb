{
 "cells": [
  {
   "cell_type": "code",
   "execution_count": null,
   "metadata": {},
   "outputs": [],
   "source": [
    "from pymystem3 import Mystem\n",
    "import pymorphy2\n",
    "from pymorphy2 import MorphAnalyzer\n",
    "import json\n",
    "import urllib.request\n",
    "import pandas as pd\n",
    "import time\n",
    "import matplotlib.pyplot as plt\n",
    "import numpy as np\n",
    "import seaborn as sns\n",
    "import requests \n",
    "\n",
    "m = Mystem()\n"
   ]
  },
  {
   "cell_type": "code",
   "execution_count": 2,
   "metadata": {},
   "outputs": [],
   "source": [
    "def remove_values_from_list(the_list, val):\n",
    "    return [value for value in the_list if value != val]\n",
    "\n",
    "def clean_list (target_list):\n",
    "    token_list = [' ', ', ', ',', '. ', '.', '?', '!', '? ', '! ', '\\n', ' \\n', '\\n ', '-', ' “','“', '” ', '”', '#', '# ',\n",
    "                 ' #', ';', ' ;', '; ', ' – ',' –', '– ']\n",
    "    for i in token_list:\n",
    "        target_list = remove_values_from_list (target_list, i)\n",
    "    return target_list\n",
    "\n",
    "dct = ['поребрик', 'парадка', 'булка', 'кура', 'бадлон']\n",
    "cities = ['Москва', 'Санкт-Петербург']"
   ]
  },
  {
   "cell_type": "code",
   "execution_count": null,
   "metadata": {},
   "outputs": [],
   "source": [
    "# token request:\n",
    "# https://oauth.vk.com/authorize?client_id=7234377&display=page&redirect_uri=https://oauth.vk.com/blank.html&scope=friends&response_type=token&v=5.52\n",
    "url = \"https://api.vk.com/method/\"\n",
    "accessToken = \"your-token\"\n",
    "version = \"5.92\"\n",
    "nPostsMax = 100\n",
    "nDictPosts = 0"
   ]
  },
  {
   "cell_type": "code",
   "execution_count": null,
   "metadata": {},
   "outputs": [],
   "source": [
    "data = pd.read_csv(\"data.csv\", encoding = \"cp1251\")"
   ]
  },
  {
   "cell_type": "code",
   "execution_count": null,
   "metadata": {},
   "outputs": [],
   "source": [
    "try:\n",
    "    userID = max (data['UserID']) + 1\n",
    "except:\n",
    "    userID = 1"
   ]
  },
  {
   "cell_type": "code",
   "execution_count": null,
   "metadata": {
    "scrolled": true
   },
   "outputs": [],
   "source": [
    "# this algorithm analyzes the first 100 posts of 150 not-yet-analyzed VK users and tries to find instances of\n",
    "# dictionary words in the posts. as a pre-processing step each post text is lemmatized\n",
    "\n",
    "for i in range (150):\n",
    "\n",
    "    time.sleep (1) # the system gets angry if the requests are too frequent\n",
    "    print ('User ID: ' + str (userID))\n",
    "\n",
    "    # initialize variables\n",
    "    nPosts = 0\n",
    "    nDictPosts = 0\n",
    "    city = ''\n",
    "    sex = ''\n",
    "    birthYear = ''\n",
    "    \n",
    "    userResp = requests.get(\n",
    "        url+\"users.get\",\n",
    "        params={\n",
    "            \"user_ids\": userID,\n",
    "            \"fields\": \"sex,bdate,city,home_town\",\n",
    "            \"v\": version,\n",
    "            \"access_token\": accessToken\n",
    "        }\n",
    "    ).json()\n",
    "\n",
    "    if 'bdate' in userResp['response'][0].keys():\n",
    "        birthYear = userResp['response'][0]['bdate'][-4:]\n",
    "        if float (birthYear) < 1000:\n",
    "            birthYear = ''\n",
    "    \n",
    "    if 'sex' in userResp['response'][0].keys():\n",
    "        if userResp['response'][0]['sex'] == 2:\n",
    "               sex = 'Male'\n",
    "        if userResp['response'][0]['sex'] == 1:\n",
    "               sex = 'Female'\n",
    "    \n",
    "    if 'city' in userResp['response'][0].keys():\n",
    "        if userResp['response'][0]['city']['title'] in cities:\n",
    "            \n",
    "            # if the user is from one of the required cities, get their wall\n",
    "            city = userResp['response'][0]['city']['title']\n",
    "            wallReq = urllib.request.Request(url + \"wall.get?owner_id=\" + str (userID) + \"&count=\" + str (nPostsMax) +\n",
    "                                             \"&filter=owner\" + \"&offset=0\" +\n",
    "                                             \"&v=\" + version + \"&access_token=\" + accessToken)\n",
    "            wallResp = urllib.request.urlopen(wallReq)\n",
    "            wallResp = wallResp.read().decode('utf-8')\n",
    "            wallResp = json.loads(wallResp)\n",
    "            \n",
    "            if 'response' in wallResp.keys():\n",
    "                if 'count' in wallResp['response'].keys():\n",
    "                    if wallResp ['response']['count'] > 0:\n",
    "                        \n",
    "                        # if there is at least one post, analyze the posts\n",
    "                        nPosts = min (len(wallResp ['response']['items']), nPostsMax)\n",
    "                        for i in range (min (len(wallResp ['response']['items']), nPostsMax)):\n",
    "                            print ('User ID: ' + str (userID) + ', post no. ' + str (i + 1))\n",
    "                            flag = False\n",
    "                            if wallResp['response']['items'][i]['text'] == '':\n",
    "                                nPosts -= 1\n",
    "                            else:\n",
    "                                lemmas = m.lemmatize (wallResp['response']['items'][i]['text'].lower())\n",
    "                                lemmas = clean_list (lemmas)\n",
    "                                for l in lemmas:\n",
    "                                    if l in dct:\n",
    "                                        flag = True\n",
    "                                        nDictPosts += 1\n",
    "                                        break\n",
    "                        \n",
    "                        # if there are some posts, but they don't contain text, nPosts will be equal to 0\n",
    "                        # we only need data on posts with texts\n",
    "                        if nPosts > 0:\n",
    "                            l = [str(userResp['response'][0]['id']),\n",
    "                                 city,\n",
    "                                 sex,\n",
    "                                 birthYear,\n",
    "                                 str(nPosts),\n",
    "                                 str(nDictPosts)]\n",
    "                            with open('data.csv','a') as fd:\n",
    "                                fd.write(','.join(l))\n",
    "                                fd.write('\\n')\n",
    "    userID += 1\n",
    "\n",
    "print ('Done!')"
   ]
  },
  {
   "cell_type": "code",
   "execution_count": 5,
   "metadata": {},
   "outputs": [
    {
     "name": "stderr",
     "output_type": "stream",
     "text": [
      "/home/dkbrz/.local/lib/python3.6/site-packages/ipykernel_launcher.py:5: SettingWithCopyWarning: \n",
      "A value is trying to be set on a copy of a slice from a DataFrame\n",
      "\n",
      "See the caveats in the documentation: http://pandas.pydata.org/pandas-docs/stable/user_guide/indexing.html#returning-a-view-versus-a-copy\n",
      "  \"\"\"\n",
      "/home/dkbrz/.local/lib/python3.6/site-packages/ipykernel_launcher.py:6: SettingWithCopyWarning: \n",
      "A value is trying to be set on a copy of a slice from a DataFrame\n",
      "\n",
      "See the caveats in the documentation: http://pandas.pydata.org/pandas-docs/stable/user_guide/indexing.html#returning-a-view-versus-a-copy\n",
      "  \n"
     ]
    },
    {
     "data": {
      "image/png": "[encoded data removed]",
      "text/plain": [
       "<Figure size 432x432 with 1 Axes>"
      ]
     },
     "metadata": {},
     "output_type": "display_data"
    },
    {
     "data": {
      "image/png": "[encoded data removed]",
      "text/plain": [
       "<Figure size 432x288 with 1 Axes>"
      ]
     },
     "metadata": {
      "needs_background": "light"
     },
     "output_type": "display_data"
    }
   ],
   "source": [
    "data = pd.read_csv(\"data.csv\", encoding = \"cp1251\")\n",
    "\n",
    "data['HasSpbWords'] = ''\n",
    "\n",
    "data['HasSpbWords'][data['nSpbPosts'] == 0] = 'No'\n",
    "data['HasSpbWords'][data['nSpbPosts'] > 0] = 'Yes'\n",
    "\n",
    "plt.figure(figsize=(6, 6))\n",
    "data['UserCity'].value_counts().plot(kind = 'pie');\n",
    "plt.title('User distribution');\n",
    "plt.show()\n",
    "\n",
    "df = data.groupby (['UserCity', 'HasSpbWords'], as_index = False).count ()[['UserCity', 'HasSpbWords', 'UserID']]\n",
    "df.columns = ['City', 'HasSpbWords', 'Count']\n",
    "\n",
    "sns.barplot (x = 'City', y = 'Count', hue = 'HasSpbWords', data = df)\n",
    "plt.title('Number of users who have Spb-ish VK posts');\n",
    "plt.xlabel('City');\n",
    "plt.ylabel('Number of users');\n",
    "plt.show()"
   ]
  }
 ],
 "metadata": {
  "kernelspec": {
   "display_name": "Python 3",
   "language": "python",
   "name": "python3"
  },
  "language_info": {
   "codemirror_mode": {
    "name": "ipython",
    "version": 3
   },
   "file_extension": ".py",
   "mimetype": "text/x-python",
   "name": "python",
   "nbconvert_exporter": "python",
   "pygments_lexer": "ipython3",
   "version": "3.7.3"
  }
 },
 "nbformat": 4,
 "nbformat_minor": 2
}
