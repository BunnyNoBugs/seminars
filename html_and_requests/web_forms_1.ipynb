{
 "cells": [
  {
   "cell_type": "markdown",
   "metadata": {},
   "source": [
    "## Веб-формы\n",
    "\n",
    "**План:**\n",
    "\n",
    "1. Для чего нужны веб-формы\n",
    "2. Какие есть типы полей для ввода\n",
    "\n",
    "Часто нужно не просто показать страницы, но и получить от пользователя какую-то информацию, которую можно получить с помощью веб-форм"
   ]
  },
  {
   "cell_type": "code",
   "execution_count": null,
   "metadata": {},
   "outputs": [],
   "source": [
    "<form>\n",
    ".\n",
    "элементы формы\n",
    ".\n",
    "</form>"
   ]
  },
  {
   "cell_type": "markdown",
   "metadata": {},
   "source": [
    "Элементы - это input или select элементы, которые позволяют получить определенные типы информации\n",
    "\n",
    "**Input**\n",
    "\n",
    "- type - тип данных - text (текст), textarea (длинный текст), checkbox (выбор нескольких), radio (выбор одного), submit - отправка формы\n",
    "- name - имя элемента при отправке формы (ключ, по которому можно будет потом получить значение)\n",
    "- value - дефолтное значение"
   ]
  },
  {
   "cell_type": "markdown",
   "metadata": {},
   "source": [
    "В типе submit value - это то, что будет написано на кнопке"
   ]
  },
  {
   "cell_type": "code",
   "execution_count": null,
   "metadata": {},
   "outputs": [],
   "source": [
    "<input type=\"submit\" value=\"Submit\">"
   ]
  },
  {
   "cell_type": "markdown",
   "metadata": {},
   "source": [
    "В текстовом поле дефолтное значение, если его не изменить, отправится в форме. Если мы хотим показать какое-то значени в ячейке (в качестве подсказки), но не отправлять, можно использовать параметр placeholder"
   ]
  },
  {
   "cell_type": "code",
   "execution_count": null,
   "metadata": {},
   "outputs": [],
   "source": [
    "<input type=\"text\" name=\"firstname\" value=\"MyName\">\n",
    "\n",
    "# тип данных - текст\n",
    "# имя параметра - firstname\n",
    "# дефолтное значение - MyName"
   ]
  },
  {
   "cell_type": "code",
   "execution_count": null,
   "metadata": {},
   "outputs": [],
   "source": [
    "<form action=\"/action_page.php\">\n",
    "  First name:<br>\n",
    "  <input type=\"text\" name=\"firstname\" placeholder=\"Mickey\">\n",
    "  <br>\n",
    "  Last name:<br>\n",
    "  <input type=\"text\" name=\"lastname\" value=\"Mouse\">\n",
    "  <br><br>\n",
    "  <input type=\"submit\" value=\"Отправить\">\n",
    "</form> "
   ]
  },
  {
   "cell_type": "markdown",
   "metadata": {},
   "source": [
    "Такая форма отправит запрос \"firstname=&lastname=Mouse\" при нажатии на кнопку Отправить, если мы не изменим значения полей, потому что в первом случае Mickey - это placeholder, а Mouse - value\n",
    "\n",
    "\n",
    "Для выбора одного варианта из предложенных используется тип radio. Дефолтное значение задается параметром checked. Заметим, что отображаться будут Male, Female и тд, но при отправке запроса будем получать \"gender=male\", как указано в value."
   ]
  },
  {
   "cell_type": "code",
   "execution_count": null,
   "metadata": {},
   "outputs": [],
   "source": [
    "<form>\n",
    "  <input type=\"radio\" name=\"gender\" value=\"male\" checked> Male<br>\n",
    "  <input type=\"radio\" name=\"gender\" value=\"female\"> Female<br>\n",
    "  <input type=\"radio\" name=\"gender\" value=\"other\"> Other\n",
    "</form>"
   ]
  },
  {
   "cell_type": "markdown",
   "metadata": {},
   "source": [
    "Следующий вид - это чекбоксы, то есть поля, которые мы отмечаем или не отмечаем галочкой"
   ]
  },
  {
   "cell_type": "code",
   "execution_count": null,
   "metadata": {},
   "outputs": [],
   "source": [
    "<input type=\"checkbox\" name=\"student\" value=\"is_student\"> студент<br>\n",
    "\n",
    "# при отправке получим \"student=is_student\", если отметим поле, иначе \"\""
   ]
  },
  {
   "cell_type": "markdown",
   "metadata": {},
   "source": [
    "Что передать полученные данные нашему серверу, мы должны из отправить по какому-то адресу, например, results и сделать это в отдельной вкладке"
   ]
  },
  {
   "cell_type": "code",
   "execution_count": null,
   "metadata": {},
   "outputs": [],
   "source": [
    "<form action=\"/results\" target=\"_blank\">\n",
    "# action - куда отправить\n",
    "# target = \"_blank\" - сделать это в новой вкладке"
   ]
  },
  {
   "cell_type": "markdown",
   "metadata": {},
   "source": [
    "При отправке запроса нужно сказать серверу, как ему стоит обаботать наш запрос -- каким методом. Методы бывают разные, а сейчас мы разберем два основных: GET и POST.\n",
    "\n",
    "**GET**\n",
    "\n",
    "Этот метод является одним из самых распространенных и предназначен для получения требуемой информации и передачи данных в адресной строке. Пары «имя=значение» присоединяются в этом случае к адресу после вопросительного знака и разделяются между собой амперсандом (символ &). Удобство использования метода GET заключается в том, что адрес со всеми параметрами можно использовать неоднократно, сохранив его, например, в закладки браузера, а также менять значения параметров прямо в адресной строке.\n",
    "\n",
    "**POST**\n",
    "\n",
    "Метод POST посылает на сервер данные в запросе браузера. Это позволяет отправлять большее количество данных, чем доступно методу GET, плюс эти данные можно скрывать. Большие объемы данных используются в форумах, почтовых службах, заполнении базы данных, при пересылке файлов и др."
   ]
  },
  {
   "cell_type": "code",
   "execution_count": null,
   "metadata": {},
   "outputs": [],
   "source": [
    "<form action=\"/results\" method = 'GET'>"
   ]
  },
  {
   "cell_type": "markdown",
   "metadata": {},
   "source": [
    "### Задание 1\n",
    "\n",
    "Давайте напишем простую форму, где пользователь вводит слово или словосочетание, оно ищется в гугле. Напишите аналогичную форму для поиска в яндексе. Что надо добавить, чтобы на кнопке поиска был написано \"yandex-search\"?"
   ]
  },
  {
   "cell_type": "code",
   "execution_count": null,
   "metadata": {},
   "outputs": [],
   "source": [
    "<html>\n",
    "    <head>\n",
    "       <meta charset=\"utf-8\">\n",
    "       <title>Что ищем?</title>\n",
    "    </head>\n",
    "    <body>\n",
    "       <form action=\"https://www.google.com/search\">\n",
    "          <p><b>Введите поисковый запрос</b></p>\n",
    "          <input type=\"text\" name=\"q\">\n",
    "          <p><input type=\"submit\"></p>\n",
    "       </form>\n",
    "     </body>\n",
    " </html"
   ]
  },
  {
   "cell_type": "markdown",
   "metadata": {},
   "source": [
    "### Задание 2\n",
    "\n",
    "1. Создайте страницу с инструкцией для прохождения лингвистической анкеты и с формой согласия на прохождение опроса. С этой страницы должен осуществляться переход на страницу в пункте 2.\n",
    "\n",
    "2. Создайте страницу с формой для лингвистической анкеты.\n",
    "\n",
    "3. Создайте папку static и положите в неё файлы со стилями для созданных страниц. Сошлитесь на них в соответствующем шаблоне:\n",
    "\n",
    "```\n",
    "<head>\n",
    "    <meta charset=\"UTF-8\">\n",
    "    <link rel= \"stylesheet\" type= \"text/css\" href= \"{{ url_for('static',filename='style.css') }}\">\n",
    "    <title></title>\n",
    "</head>\n",
    "```"
   ]
  },
  {
   "cell_type": "code",
   "execution_count": null,
   "metadata": {},
   "outputs": [],
   "source": [
    "from flask import Flask, render_template, request\n",
    "\n",
    "app = Flask(__name__)\n",
    "\n",
    "@app.route(\"/\")\n",
    "def instruction():\n",
    "    return render_template('index.html')\n",
    "\n",
    "@app.route(\"/questionnaire\")\n",
    "def quest():\n",
    "    return render_template('quest.html')\n",
    "\n",
    "if __name__ == \"__main__\":\n",
    "    app.run()"
   ]
  },
  {
   "cell_type": "markdown",
   "metadata": {},
   "source": [
    "+ `<fieldset>` используется, чтобы сгруппировать элементы формы.\n",
    "\n",
    "+ `<legend>` -- заголовок элемента `<fieldset>`."
   ]
  },
  {
   "cell_type": "code",
   "execution_count": null,
   "metadata": {},
   "outputs": [],
   "source": [
    "<!DOCTYPE html>\n",
    "<html lang=\"ru\">\n",
    "<head>\n",
    "    <meta charset=\"utf-8\">\n",
    "    <title>Согласие</title>\n",
    "</head>\n",
    "<body>\n",
    "<form action=\"/questionnaire\" method = 'GET'>\n",
    "    <fieldset>\n",
    "        <legend><b>Опрос про распределение языков общения у носителей хантыйского</b></legend>\n",
    "    <p>Некоторое описание опроса</p>\n",
    "    Согласны ли Вы пройти опрос?<br>\n",
    "    <input type=\"radio\" name=\"ask\" value=\"yes\" checked>Да<br>\n",
    "    <p><input type=\"submit\" value=\"Отправить\"></p>\n",
    "    </fieldset>\n",
    "</form>\n",
    "<p><a href='/questionnaire'>Опрос</a></p>\n",
    "</body>\n",
    "</html>"
   ]
  },
  {
   "cell_type": "code",
   "execution_count": null,
   "metadata": {},
   "outputs": [],
   "source": [
    "<!DOCTYPE html>\n",
    "<html lang=\"ru\">\n",
    "<head>\n",
    "    <meta charset=\"utf-8\">\n",
    "    <title>Анкета владения языками хантов Казыма</title>\n",
    "</head>\n",
    "<body>\n",
    "<form action=\"/\" method = 'GET'>\n",
    "    <fieldset>\n",
    "    <legend><b>Опрос про распределение языков общения у носителей хантыйского</b></legend>\n",
    "    Владеете ли Вы хантыйским как родным?<br>\n",
    "    <input type=\"radio\" name=\"ask\" value=\"yes\" checked>Да<br>\n",
    "    <input type=\"radio\" name=\"ask\" value=\"no\">Нет<br>\n",
    "    На каком языке Вы общаетесь на работе?<br>\n",
    "        Например: хантыйский, зырянский, русский<br>\n",
    "    <input type=\"text\" name=\"work\" required pattern='[A-Za-zА-Яа-яЁё]+'><br>\n",
    "    На каком языке Вы общаетесь дома?<br>\n",
    "        Например: хантыйский, зырянский, русский<br>\n",
    "    <input type=\"text\" name=\"home\" required pattern='[A-Za-zА-Яа-яЁё]+'><br>\n",
    "        Ваше имя?<br>\n",
    "        Например: Даша<br>\n",
    "    <input type=\"text\" name=\"name\" required pattern='[A-Za-zА-Яа-яЁё]+'><br>\n",
    "        Ваша фамилия?<br>\n",
    "        Например: Попова<br>\n",
    "    <input type=\"text\" name=\"surname\" required pattern='[A-Za-zА-Яа-яЁё]+'><br>\n",
    "    <p><input type=\"submit\" value=\"Отправить\"></p>\n",
    "    </fieldset>\n",
    "</form>\n",
    "<p><a href='/'>Инструкция</a></p>\n",
    "</body>\n",
    "</html>"
   ]
  },
  {
   "cell_type": "markdown",
   "metadata": {},
   "source": [
    "#### В следующий раз...\n",
    "\n",
    "Для использования данных из формы используется request.args, который представляет собой словарь параметров"
   ]
  },
  {
   "cell_type": "code",
   "execution_count": null,
   "metadata": {},
   "outputs": [],
   "source": [
    "from flask import request\n",
    "\n",
    "@app.route('/login')\n",
    "def login():\n",
    "    return 'Name: ' + request.args['login']"
   ]
  },
  {
   "cell_type": "markdown",
   "metadata": {},
   "source": [
    "Учитывая то, что в форме может не оказаться нужного параметра, как, например, в случае checkbox, лучше использовать метод get, который возвращает None, если ключа нет в словаре и не вызывает ошибку"
   ]
  },
  {
   "cell_type": "code",
   "execution_count": null,
   "metadata": {},
   "outputs": [],
   "source": [
    "from flask import request\n",
    "\n",
    "@app.route('/login')\n",
    "def login():\n",
    "    return 'Name: ' + request.args.get('login')"
   ]
  }
 ],
 "metadata": {
  "kernelspec": {
   "display_name": "Python 3",
   "language": "python",
   "name": "python3"
  },
  "language_info": {
   "codemirror_mode": {
    "name": "ipython",
    "version": 3
   },
   "file_extension": ".py",
   "mimetype": "text/x-python",
   "name": "python",
   "nbconvert_exporter": "python",
   "pygments_lexer": "ipython3",
   "version": "3.6.8"
  }
 },
 "nbformat": 4,
 "nbformat_minor": 2
}
