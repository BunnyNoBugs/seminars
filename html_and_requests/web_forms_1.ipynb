{
 "cells": [
  {
   "cell_type": "markdown",
   "metadata": {},
   "source": [
    "## Веб-формы\n",
    "\n",
    "**План:**\n",
    "\n",
    "1. Для чего нужны веб-формы\n",
    "2. Какие естьтипы полей для ввода\n",
    "3. Jinja-templates\n",
    "\n",
    "Часто нужно не просто показать страницы, но и получить от пользователя какую-то информацию, которую можно получить с помощью веб-форм"
   ]
  },
  {
   "cell_type": "code",
   "execution_count": null,
   "metadata": {},
   "outputs": [],
   "source": [
    "<form>\n",
    ".\n",
    "элементы формы\n",
    ".\n",
    "</form>"
   ]
  },
  {
   "cell_type": "markdown",
   "metadata": {},
   "source": [
    "Элементы - это input или select элементы, которые позволяют получить определенны етипы информации\n",
    "\n",
    "**Input**\n",
    "\n",
    "- type - тип данных - text (текст), radio (выбор одного), submit - отправка формы\n",
    "- name - имя элемента при отправке формы (ключ, по которому можно будет потом получить значение)\n",
    "- value - дефолтное значение"
   ]
  },
  {
   "cell_type": "markdown",
   "metadata": {},
   "source": [
    "В типе submit value - это то, что будет написано на кнопке"
   ]
  },
  {
   "cell_type": "code",
   "execution_count": null,
   "metadata": {},
   "outputs": [],
   "source": [
    "<input type=\"submit\" value=\"Submit\">"
   ]
  },
  {
   "cell_type": "markdown",
   "metadata": {},
   "source": [
    "В текстовом поле дефолтное значение, если его не изменить, отправится в форме. Если мы хотим показать какое-то значени в ячейке (в качестве подсказки), но не отправлять, можно использовать параметр placeholder"
   ]
  },
  {
   "cell_type": "code",
   "execution_count": null,
   "metadata": {},
   "outputs": [],
   "source": [
    "<input type=\"text\" name=\"firstname\" value=\"MyName\">\n",
    "\n",
    "# тип данных - текст\n",
    "# имя параметра - firstname\n",
    "# дефолтное значение - MyName"
   ]
  },
  {
   "cell_type": "code",
   "execution_count": null,
   "metadata": {},
   "outputs": [],
   "source": [
    "<form action=\"/action_page.php\">\n",
    "  First name:<br>\n",
    "  <input type=\"text\" name=\"firstname\" placeholder=\"Mickey\">\n",
    "  <br>\n",
    "  Last name:<br>\n",
    "  <input type=\"text\" name=\"lastname\" value=\"Mouse\">\n",
    "  <br><br>\n",
    "  <input type=\"submit\" value=\"Отправить\">\n",
    "</form> "
   ]
  },
  {
   "cell_type": "markdown",
   "metadata": {},
   "source": [
    "Такая форма отправит запрос \"firstname=&lastname=Mouse\" при нажатии на кнопку Отправить, если мы не изменим значения полей, потому что в первом случае Mickey - это placeholder, а Mouse - value\n",
    "\n",
    "\n",
    "Для выбора одного варианта из предложенных используется тип radio. Дефолтное значение задается параметром checked. Заметим, что отображаться будут Male, Female и тд, но при отправке запроса будем получать \"gender=male\", как указано в value."
   ]
  },
  {
   "cell_type": "code",
   "execution_count": null,
   "metadata": {},
   "outputs": [],
   "source": [
    "<form>\n",
    "  <input type=\"radio\" name=\"gender\" value=\"male\" checked> Male<br>\n",
    "  <input type=\"radio\" name=\"gender\" value=\"female\"> Female<br>\n",
    "  <input type=\"radio\" name=\"gender\" value=\"other\"> Other\n",
    "</form>"
   ]
  },
  {
   "cell_type": "code",
   "execution_count": null,
   "metadata": {},
   "outputs": [],
   "source": [
    "Следующий вид - это чекбоксы, то есть поля, которые мы отмечаем или не отмечаем галочкой"
   ]
  },
  {
   "cell_type": "code",
   "execution_count": null,
   "metadata": {},
   "outputs": [],
   "source": [
    "<input type=\"checkbox\" name=\"student\" value=\"is_student\"> студент<br>\n",
    "\n",
    "# при отправке получим \"student=is_student\", если отметим поле, иначе \"\""
   ]
  },
  {
   "cell_type": "markdown",
   "metadata": {},
   "source": [
    "Что передать полученные данные нашему серверу, мы должны из отправить по какому-то адресу, например, results и сделать это в отдельной вкладке"
   ]
  },
  {
   "cell_type": "code",
   "execution_count": null,
   "metadata": {},
   "outputs": [],
   "source": [
    "<form action=\"/results\" target=\"_blank\">\n",
    "# action - куда отправить\n",
    "# target = \"_blank\" - сделать это в новой вкладке"
   ]
  },
  {
   "cell_type": "markdown",
   "metadata": {},
   "source": [
    "Для использования данных из формы используется request.args, который представляет собой словарь параметров"
   ]
  },
  {
   "cell_type": "code",
   "execution_count": null,
   "metadata": {},
   "outputs": [],
   "source": [
    "from flask import request\n",
    "\n",
    "@app.route('/login')\n",
    "def login():\n",
    "    return 'Name: ' + request.args['login']"
   ]
  },
  {
   "cell_type": "markdown",
   "metadata": {},
   "source": [
    "Учитывая то, что в форме может не оказаться нужного параметра, как, например, в случае checkbox, лучше использовать метод get, который возвращает None, если ключа нет в словаре и не вызывает ошибку"
   ]
  },
  {
   "cell_type": "code",
   "execution_count": null,
   "metadata": {},
   "outputs": [],
   "source": [
    "from flask import request\n",
    "\n",
    "@app.route('/login')\n",
    "def login():\n",
    "    return 'Name: ' + request.args.get('login')"
   ]
  },
  {
   "cell_type": "markdown",
   "metadata": {},
   "source": [
    "## Jinja-templates"
   ]
  }
 ],
 "metadata": {
  "kernelspec": {
   "display_name": "Python 3",
   "language": "python",
   "name": "python3"
  },
  "language_info": {
   "codemirror_mode": {
    "name": "ipython",
    "version": 3
   },
   "file_extension": ".py",
   "mimetype": "text/x-python",
   "name": "python",
   "nbconvert_exporter": "python",
   "pygments_lexer": "ipython3",
   "version": "3.6.8"
  }
 },
 "nbformat": 4,
 "nbformat_minor": 2
}
