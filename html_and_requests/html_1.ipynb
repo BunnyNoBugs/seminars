{
 "cells": [
  {
   "cell_type": "markdown",
   "metadata": {},
   "source": [
    "# HTML\n",
    "\n",
    "**План:**\n",
    "\n",
    "1. Что такое HTML (повторение)?\n",
    "2. Основные полезные компоненты\n",
    "3. Использование CSS для оформления страниц\n",
    "4. Парсинг html: регулярные выражения и настоящие парсеры"
   ]
  },
  {
   "cell_type": "markdown",
   "metadata": {},
   "source": [
    "## Что такое HTML?"
   ]
  },
  {
   "cell_type": "code",
   "execution_count": null,
   "metadata": {},
   "outputs": [],
   "source": []
  },
  {
   "cell_type": "markdown",
   "metadata": {},
   "source": [
    "## Основные полезные элементы страницы"
   ]
  },
  {
   "cell_type": "markdown",
   "metadata": {},
   "source": [
    "Лучший учебник - https://www.w3schools.com"
   ]
  },
  {
   "cell_type": "markdown",
   "metadata": {},
   "source": [
    "## Использование CSS для оформления страниц"
   ]
  },
  {
   "cell_type": "markdown",
   "metadata": {},
   "source": [
    "## Парсинг HTML\n",
    "\n",
    "**Регулярные выражения**\n",
    "\n",
    "Регулярные выражения считаются не очень красивым способом парсить html для извлечения информации, однако часто они - это самый простой способ, если нужно достать несколько вполне конкретных значений"
   ]
  },
  {
   "cell_type": "code",
   "execution_count": 4,
   "metadata": {},
   "outputs": [],
   "source": [
    "import re\n",
    "import requests\n",
    "session = requests.session()"
   ]
  },
  {
   "cell_type": "code",
   "execution_count": 5,
   "metadata": {},
   "outputs": [],
   "source": [
    "html = session.get('https://www.hse.ru/news/').text"
   ]
  },
  {
   "cell_type": "code",
   "execution_count": 8,
   "metadata": {},
   "outputs": [],
   "source": [
    "TITLE_REGEXP = re.compile('<a href=\".*?\" class=\"link link_dark2 no-visited\">(.*?)</a>')"
   ]
  },
  {
   "cell_type": "code",
   "execution_count": 9,
   "metadata": {},
   "outputs": [
    {
     "data": {
      "text/plain": [
       "['Отсутствие гравитации меняет нейронные связи. Что происходит с нервной системой человека в невесомости',\n",
       " 'Абитуриентов привлекает цифра',\n",
       " 'Туризм под присмотром: как гостей из-за рубежа учили любить Страну Советов',\n",
       " 'Новый учебный год — новые правила',\n",
       " '«Медаль или грамота — не самоцель»',\n",
       " 'Постчеловеческое общество: как развитие технологий затормозило эволюцию людей',\n",
       " 'ВШЭ сохранила позиции в рейтинге ARWU',\n",
       " '«Американцы встречали нас с удивительным радушием»',\n",
       " '«Теперь я буду двигаться вперед, к моему будущему, связанному с космосом»',\n",
       " 'Призрак рецессии: почему он бродит в экономике России']"
      ]
     },
     "execution_count": 9,
     "metadata": {},
     "output_type": "execute_result"
    }
   ],
   "source": [
    "TITLE_REGEXP.findall(html)"
   ]
  },
  {
   "cell_type": "markdown",
   "metadata": {},
   "source": [
    "**Полноценные парсеры**"
   ]
  },
  {
   "cell_type": "code",
   "execution_count": null,
   "metadata": {},
   "outputs": [],
   "source": []
  }
 ],
 "metadata": {
  "kernelspec": {
   "display_name": "Python 3",
   "language": "python",
   "name": "python3"
  },
  "language_info": {
   "codemirror_mode": {
    "name": "ipython",
    "version": 3
   },
   "file_extension": ".py",
   "mimetype": "text/x-python",
   "name": "python",
   "nbconvert_exporter": "python",
   "pygments_lexer": "ipython3",
   "version": "3.6.8"
  }
 },
 "nbformat": 4,
 "nbformat_minor": 2
}
