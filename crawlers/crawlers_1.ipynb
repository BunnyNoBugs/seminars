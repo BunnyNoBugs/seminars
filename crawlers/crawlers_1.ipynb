{
 "cells": [
  {
   "cell_type": "markdown",
   "metadata": {},
   "source": [
    "# Краулеры\n",
    "\n",
    "**План**\n",
    "\n",
    "1. Что такое краулеры?\n",
    "2. Как написать простой краулер?\n",
    "3. Блокировки и способы их обхода"
   ]
  },
  {
   "cell_type": "markdown",
   "metadata": {},
   "source": [
    "## Что такое краулеры?"
   ]
  },
  {
   "cell_type": "markdown",
   "metadata": {},
   "source": [
    "## Как написать простой краулер?"
   ]
  },
  {
   "cell_type": "code",
   "execution_count": 1,
   "metadata": {},
   "outputs": [],
   "source": [
    "import requests"
   ]
  },
  {
   "cell_type": "code",
   "execution_count": 2,
   "metadata": {},
   "outputs": [],
   "source": [
    "session = requests.session()"
   ]
  },
  {
   "cell_type": "code",
   "execution_count": 3,
   "metadata": {},
   "outputs": [],
   "source": [
    "response = session.get('https://ru.wikipedia.org')"
   ]
  },
  {
   "cell_type": "code",
   "execution_count": 4,
   "metadata": {},
   "outputs": [
    {
     "data": {
      "text/plain": [
       "'188.32.154.141'"
      ]
     },
     "execution_count": 4,
     "metadata": {},
     "output_type": "execute_result"
    }
   ],
   "source": [
    "response.headers['X-Client-IP']"
   ]
  },
  {
   "cell_type": "code",
   "execution_count": 5,
   "metadata": {},
   "outputs": [
    {
     "data": {
      "text/plain": [
       "{'Date': 'Sun, 18 Aug 2019 14:15:36 GMT', 'Content-Type': 'text/html; charset=UTF-8', 'Content-Length': '26224', 'Connection': 'keep-alive', 'Server': 'mw1264.eqiad.wmnet', 'X-Powered-By': 'HHVM/3.18.6-dev', 'Feature-Policy-Report-Only': \"sync-xhr 'none'\", 'Content-language': 'ru', 'P3P': 'CP=\"This is not a P3P policy! See https://ru.wikipedia.org/wiki/%D0%A1%D0%BB%D1%83%D0%B6%D0%B5%D0%B1%D0%BD%D0%B0%D1%8F:CentralAutoLogin/P3P for more info.\"', 'Origin-Trial': 'AsgJBEgl1uCVxnFLFy3QQSGjCfnGkvAdwJEMdSuoG+rI8vkW1ErSmxh4zE/rAzLcCp+HW7KswymQ6iItKlfihwEAAABqeyJvcmlnaW4iOiJodHRwczovL3J1Lndpa2lwZWRpYS5vcmc6NDQzIiwiZmVhdHVyZSI6IlByaW9yaXR5SGludHMiLCJleHBpcnkiOjE1Njc1NTUxOTksImlzU3ViZG9tYWluIjp0cnVlfQ==, AshJ3chYbVful0vwJ8K3I5UWkQu7KqzD1PZxpgVqCbmWWZz1V3n2jR12Yw+A0Z/GKvsk93s+zgCC7fcN9Q8XDQ0AAABweyJvcmlnaW4iOiJodHRwczovL3J1Lndpa2lwZWRpYS5vcmc6NDQzIiwiZmVhdHVyZSI6IkVsZW1lbnRUaW1pbmdJbWFnZXMiLCJleHBpcnkiOjE1Njc1NTUxOTksImlzU3ViZG9tYWluIjp0cnVlfQ==, AgN+S/0I0APoRAdwjTE11HVRUE4fyP31B11bR7jgVuLPs03/t5OA5dT+EeogSaW4dCpx/m9DILD0BluG4aSjDAoAAABqeyJvcmlnaW4iOiJodHRwczovL3J1Lndpa2lwZWRpYS5vcmc6NDQzIiwiZmVhdHVyZSI6IkxheW91dEphbmtBUEkiLCJleHBpcnkiOjE1Njc1NTUxOTksImlzU3ViZG9tYWluIjp0cnVlfQ==', 'X-Content-Type-Options': 'nosniff', 'Last-Modified': 'Sun, 18 Aug 2019 14:14:20 GMT', 'Backend-Timing': 'D=799497 t=1566137662916434', 'Vary': 'Accept-Encoding,Cookie,Authorization,X-Seven', 'Content-Encoding': 'gzip', 'X-Varnish': '347227760, 67978821 68060870, 762387893 757479302', 'Age': '72', 'X-Cache': 'cp1083 pass, cp3042 hit/1, cp3030 hit/34', 'X-Cache-Status': 'hit-front', 'Server-Timing': 'cache;desc=\"hit-front\"', 'Strict-Transport-Security': 'max-age=106384710; includeSubDomains; preload', 'X-Analytics': 'ns=0;page_id=4401;WMF-Last-Access=18-Aug-2019;WMF-Last-Access-Global=18-Aug-2019;https=1', 'X-Client-IP': '188.32.154.141', 'Cache-Control': 'private, s-maxage=0, max-age=0, must-revalidate', 'Accept-Ranges': 'bytes'}"
      ]
     },
     "execution_count": 5,
     "metadata": {},
     "output_type": "execute_result"
    }
   ],
   "source": [
    "response.headers"
   ]
  },
  {
   "cell_type": "markdown",
   "metadata": {},
   "source": [
    "## Блокировки и способы их обхода\n",
    "\n",
    "Для того, чтобы предотвратить автоматический сбор информации с некого сайта, применяются различные инструменты, которые определяют роботов и блокируют запросы с адресов, которые были классифицированы как роботы. Чтобы не заблокировали домашний/учебный ip, лучше сразу задуматься об этих мерах и предотвратить возможные проблемы. Кстати, Википедия не блокирует и можно спокойно скачивать без каких-либо проблем.\n",
    "\n",
    "Чтобы их обойти, можно попробовать несколько инструментов:\n",
    "1. time.sleep(x) - задержка между запросами, чтобы слишком большая скорость запросов не показалась подозрительной или ваши запросы не уронили сервер небольшого ресурса (например, региональной газеты)\n",
    "2. time.sleep(случайный промежуток времени) - это более хитрая версия, когда время задержки - это случайное число из некоторого отрезка (модуль random)\n",
    "3. изобразить браузер - при запросе отправляется информация о том, из какого приложения пришел запрос (например, Googlr Chrome), запросы сделанные из браузера больше похожи на человеческие, для этого нужно задать user-agent в параметрах (а его выбирать случайно с помощью fake_useragent)\n",
    "4. использовать прокси - существуют ресурсы с бесплатными списками открытых прокси, через которые можно пропускать ваш запрос и сервер будет думать, что запросы приходят из разных мест (anonymous и elite классы прокси)"
   ]
  },
  {
   "cell_type": "code",
   "execution_count": 6,
   "metadata": {},
   "outputs": [],
   "source": [
    "import time"
   ]
  },
  {
   "cell_type": "code",
   "execution_count": 7,
   "metadata": {},
   "outputs": [
    {
     "name": "stdout",
     "output_type": "stream",
     "text": [
      "Sun, 18 Aug 2019 14:15:36 GMT\n",
      "Sun, 18 Aug 2019 14:15:39 GMT\n",
      "Sun, 18 Aug 2019 14:15:42 GMT\n",
      "Sun, 18 Aug 2019 14:15:45 GMT\n",
      "Sun, 18 Aug 2019 14:15:49 GMT\n"
     ]
    }
   ],
   "source": [
    "for _ in range(5):\n",
    "    response = session.get('https://ru.wikipedia.org')\n",
    "    print(response.headers['Date'])\n",
    "    time.sleep(3)"
   ]
  },
  {
   "cell_type": "code",
   "execution_count": 8,
   "metadata": {},
   "outputs": [],
   "source": [
    "from fake_useragent import UserAgent\n",
    "ua = UserAgent(verify_ssl=False)"
   ]
  },
  {
   "cell_type": "code",
   "execution_count": 9,
   "metadata": {},
   "outputs": [
    {
     "name": "stdout",
     "output_type": "stream",
     "text": [
      "{'User-Agent': 'Mozilla/5.0 (Windows NT 6.1; WOW64) AppleWebKit/537.36 (KHTML, like Gecko) Chrome/36.0.1985.67 Safari/537.36'}\n"
     ]
    }
   ],
   "source": [
    "headers = {'User-Agent': ua.random}\n",
    "print(headers)\n",
    "response = session.get('https://ru.wikipedia.org', headers=headers)"
   ]
  },
  {
   "cell_type": "code",
   "execution_count": 10,
   "metadata": {},
   "outputs": [],
   "source": [
    "import random"
   ]
  },
  {
   "cell_type": "code",
   "execution_count": 11,
   "metadata": {},
   "outputs": [
    {
     "name": "stdout",
     "output_type": "stream",
     "text": [
      "Sun, 18 Aug 2019 14:15:52 GMT\n",
      "Sun, 18 Aug 2019 14:15:54 GMT\n",
      "Sun, 18 Aug 2019 14:15:58 GMT\n",
      "Sun, 18 Aug 2019 14:16:02 GMT\n",
      "Sun, 18 Aug 2019 14:16:04 GMT\n"
     ]
    }
   ],
   "source": [
    "for _ in range(5):\n",
    "    response = session.get('https://ru.wikipedia.org')\n",
    "    print(response.headers['Date'])\n",
    "    time.sleep(random.uniform(1.1, 5.2))"
   ]
  },
  {
   "cell_type": "code",
   "execution_count": 13,
   "metadata": {},
   "outputs": [
    {
     "name": "stdout",
     "output_type": "stream",
     "text": [
      "202.125.74.6\n"
     ]
    }
   ],
   "source": [
    "known_proxy_ip = '202.125.75.97:52452'\n",
    "proxy = {'http': known_proxy_ip, 'https': known_proxy_ip}\n",
    "response = session.get('https://ru.wikipedia.org', proxies=proxy)\n",
    "print(response.headers['X-Client-IP'])"
   ]
  }
 ],
 "metadata": {
  "kernelspec": {
   "display_name": "Python 3",
   "language": "python",
   "name": "python3"
  },
  "language_info": {
   "codemirror_mode": {
    "name": "ipython",
    "version": 3
   },
   "file_extension": ".py",
   "mimetype": "text/x-python",
   "name": "python",
   "nbconvert_exporter": "python",
   "pygments_lexer": "ipython3",
   "version": "3.6.8"
  }
 },
 "nbformat": 4,
 "nbformat_minor": 2
}
