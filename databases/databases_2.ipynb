{
 "cells": [
  {
   "cell_type": "markdown",
   "metadata": {},
   "source": [
    "# Базы данных. Часть 2\n",
    "\n",
    "## Базы данных и Python\n",
    "\n",
    "Питон позволяет работать с различными СУБД, но проще всего использовать встроенную библиотеку [SQLite](https://docs.python.org/3.5/library/sqlite3.html). Важно также запомнить, что файлы баз данных имеют расширение `.db`."
   ]
  },
  {
   "cell_type": "code",
   "execution_count": 2,
   "metadata": {},
   "outputs": [],
   "source": [
    "import sqlite3\n",
    "\n",
    "# подключаемся к базе данных\n",
    "conn = sqlite3.connect('example2.db')\n",
    "\n",
    "# создаем объект \"курсор\", которому будем передавать запросы\n",
    "c = conn.cursor()\n",
    "\n",
    "# создаем таблицу\n",
    "c.execute(\"CREATE TABLE IF NOT EXISTS students(name text, major text, year integer)\")\n",
    "\n",
    "# вставляем строку\n",
    "c.execute(\"INSERT INTO students VALUES ('Петя','филология',1), ('Настя','лингвистика',4)\")\n",
    "\n",
    "# сохраняем изменения\n",
    "conn.commit()\n",
    "\n",
    "# отключаемся от БД\n",
    "#conn.close()"
   ]
  },
  {
   "cell_type": "markdown",
   "metadata": {},
   "source": [
    "**Важная вещь №1**: после подключения к БД нужно обязательно инициализировать курсор, иначе вы не сможете делать к ней запросы!\n",
    "\n",
    "**Важная вещь №2**: если вы что-то изменили, нужно обязательно закоммитить изменения, иначе они не сохранятся в файле БД!\n",
    "\n",
    "И немного о безопасности: при создании запроса нельзя использовать конкатенацию строк и форматирование строк, как в питоне. Это сделает ваше приложение уязвимым для SQL-инъекций - особых хакерских атак, которые заключаются в подставлении в запрос нежелательных комманд - например, DROP TABLE. Поподробнее об этом можно почитать [вот здесь](https://habrahabr.ru/post/148151/).\n",
    "\n",
    "![](https://imgs.xkcd.com/comics/exploits_of_a_mom.png)"
   ]
  },
  {
   "cell_type": "code",
   "execution_count": 3,
   "metadata": {},
   "outputs": [
    {
     "name": "stdout",
     "output_type": "stream",
     "text": [
      "('Петя', 'филология', 1)\n"
     ]
    }
   ],
   "source": [
    "# Так нельзя!\n",
    "name = 'Петя'\n",
    "c.execute(\"SELECT * FROM students WHERE name = '%s'\" % name)\n",
    "\n",
    "# Вот как надо\n",
    "x = ('Петя',)\n",
    "c.execute('SELECT * FROM students WHERE name=?', x)\n",
    "print(c.fetchone())"
   ]
  },
  {
   "cell_type": "code",
   "execution_count": 4,
   "metadata": {},
   "outputs": [
    {
     "name": "stdout",
     "output_type": "stream",
     "text": [
      "('Петя', 'филология', 1)\n",
      "('Настя', 'лингвистика', 4)\n"
     ]
    }
   ],
   "source": [
    "# Если результатом запроса является несколько строк, можно по ним итерировать\n",
    "\n",
    "for row in c.execute('SELECT * FROM students ORDER BY year'):\n",
    "    print(row)"
   ]
  },
  {
   "cell_type": "code",
   "execution_count": 5,
   "metadata": {},
   "outputs": [],
   "source": [
    "# как подставить несколько переменных в sql-запрос\n",
    "\n",
    "x = 'Аня'\n",
    "y = 'математика'\n",
    "z = 3\n",
    "\n",
    "c.execute('INSERT INTO students VALUES (?, ?, ?)', (x, y, z))\n",
    "conn.commit()"
   ]
  },
  {
   "cell_type": "markdown",
   "metadata": {},
   "source": [
    "#### Форматирование строк\n",
    "\n",
    "Если нужно подставить переменные в качестве названия таблицы или колонок, то придется использовать форматирование строк."
   ]
  },
  {
   "cell_type": "code",
   "execution_count": 6,
   "metadata": {},
   "outputs": [
    {
     "data": {
      "text/plain": [
       "<sqlite3.Cursor at 0x19d25f473b0>"
      ]
     },
     "execution_count": 6,
     "metadata": {},
     "output_type": "execute_result"
    }
   ],
   "source": [
    "params = ['vowel', 'f1', 'f2']\n",
    "c.execute('CREATE TABLE vowels({}, {}, {})'.format(params[0], params[1], params[2]))"
   ]
  },
  {
   "cell_type": "code",
   "execution_count": 7,
   "metadata": {},
   "outputs": [
    {
     "data": {
      "text/plain": [
       "<sqlite3.Cursor at 0x19d25f473b0>"
      ]
     },
     "execution_count": 7,
     "metadata": {},
     "output_type": "execute_result"
    }
   ],
   "source": [
    "# как написать длинный запрос посимпатичнее\n",
    "c.execute('''\n",
    "INSERT INTO vowels \n",
    "VALUES \n",
    "('a', 1234.56, 4567.8), \n",
    "('u', 1111.1, 3333.3)'''\n",
    ")"
   ]
  },
  {
   "cell_type": "code",
   "execution_count": 8,
   "metadata": {},
   "outputs": [
    {
     "name": "stdout",
     "output_type": "stream",
     "text": [
      "('a', 1234.56, 4567.8)\n",
      "('u', 1111.1, 3333.3)\n"
     ]
    }
   ],
   "source": [
    "for row in c.execute('SELECT * FROM vowels'):\n",
    "    print(row)"
   ]
  },
  {
   "cell_type": "markdown",
   "metadata": {},
   "source": [
    "#### Функции курсора\n",
    "\n",
    "* **fetchone()** -- возвращает следующий элемент из результата запроса (т.е. одну строку из бд). Результат -- кортеж, где элементом является значение каждой из колонок или None\n",
    "* **fetchall()** -- возвращает все результаты запроса в виде списка\n",
    "* **fetchmany()** -- взвращает заданное количество строк из результатов запроса"
   ]
  },
  {
   "cell_type": "code",
   "execution_count": 9,
   "metadata": {},
   "outputs": [
    {
     "name": "stdout",
     "output_type": "stream",
     "text": [
      "('Петя', 'филология', 1)\n",
      "('Аня', 'математика', 3)\n",
      "('Настя', 'лингвистика', 4)\n"
     ]
    }
   ],
   "source": [
    "# извлекаем строки по одной\n",
    "# обратите внимание, что после каждого вызова fetchone возвращает следующую строку!\n",
    "c.execute('SELECT * FROM students ORDER BY year')\n",
    "print(c.fetchone())\n",
    "print(c.fetchone())\n",
    "print(c.fetchone())"
   ]
  },
  {
   "cell_type": "code",
   "execution_count": 10,
   "metadata": {},
   "outputs": [
    {
     "name": "stdout",
     "output_type": "stream",
     "text": [
      "[('Петя', 'филология', 1), ('Аня', 'математика', 3)]\n"
     ]
    }
   ],
   "source": [
    "# извлекаем две строки\n",
    "c.execute('SELECT * FROM students ORDER BY year')\n",
    "print(c.fetchmany(2))"
   ]
  },
  {
   "cell_type": "code",
   "execution_count": 11,
   "metadata": {},
   "outputs": [
    {
     "name": "stdout",
     "output_type": "stream",
     "text": [
      "[('Петя', 'филология', 1), ('Аня', 'математика', 3), ('Настя', 'лингвистика', 4)]\n"
     ]
    }
   ],
   "source": [
    "# извлекаем все строки\n",
    "c.execute('SELECT * FROM students ORDER BY year')\n",
    "print(c.fetchall())"
   ]
  },
  {
   "cell_type": "markdown",
   "metadata": {},
   "source": [
    "# Практика #2"
   ]
  },
  {
   "cell_type": "code",
   "execution_count": null,
   "metadata": {},
   "outputs": [],
   "source": []
  },
  {
   "cell_type": "code",
   "execution_count": null,
   "metadata": {},
   "outputs": [],
   "source": []
  }
 ],
 "metadata": {
  "kernelspec": {
   "display_name": "Python 3",
   "language": "python",
   "name": "python3"
  },
  "language_info": {
   "codemirror_mode": {
    "name": "ipython",
    "version": 3
   },
   "file_extension": ".py",
   "mimetype": "text/x-python",
   "name": "python",
   "nbconvert_exporter": "python",
   "pygments_lexer": "ipython3",
   "version": "3.7.1"
  }
 },
 "nbformat": 4,
 "nbformat_minor": 2
}
