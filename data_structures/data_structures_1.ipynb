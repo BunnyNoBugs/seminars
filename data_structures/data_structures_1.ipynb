{
 "cells": [
  {
   "cell_type": "markdown",
   "metadata": {},
   "source": [
    "# Структуры данных"
   ]
  },
  {
   "cell_type": "markdown",
   "metadata": {},
   "source": [
    "## Списки\n",
    "\n",
    "Список, или массив (list) -- это такая структура данных, где все элементы имеют порядковый номер (индекс), по которому их можно вызвать. Элементы могут повторяться (т.е. в ячейках с разными индексами могут быть записаны переменные с одинаковым значением / одинаковые константы). В списке могут храниться данные разных типов. Записывается в [ ]."
   ]
  },
  {
   "cell_type": "code",
   "execution_count": 3,
   "metadata": {},
   "outputs": [
    {
     "name": "stdout",
     "output_type": "stream",
     "text": [
      "[4.89, 5, 'spam', True, 'spam', 'hello']\n"
     ]
    }
   ],
   "source": [
    "a = 5\n",
    "b = \"hello\"\n",
    "\n",
    "some_list = [4.89, a, \"spam\", True, \"spam\", b]\n",
    "print(some_list)"
   ]
  },
  {
   "cell_type": "code",
   "execution_count": 6,
   "metadata": {},
   "outputs": [
    {
     "name": "stdout",
     "output_type": "stream",
     "text": [
      "['Из', 'этого', 'предложения', 'получится', 'список']\n",
      "['И', 'з', ' ', 'э', 'т', 'о', 'г', 'о', ' ', 'п', 'р', 'е', 'д', 'л', 'о', 'ж', 'е', 'н', 'и', 'я', ' ', 'п', 'о', 'л', 'у', 'ч', 'и', 'т', 'с', 'я', ' ', 'с', 'п', 'и', 'с', 'о', 'к']\n"
     ]
    }
   ],
   "source": [
    "sentence = \"Из этого предложения получится список\"\n",
    "letters = list(sentence)  # разбивает строку на минимальные элементы, т.е. посимвольно\n",
    "words = sentence.split() # разбивает строку на слова по пробелам\n",
    "\n",
    "print(words)\n",
    "print(letters)"
   ]
  },
  {
   "cell_type": "markdown",
   "metadata": {},
   "source": [
    "К элементам массива можно обращаться как по ключу от 0 до длины - 1, так и по отрицательному ключу, где -1 - это последний элемент, -2 - предпоследний и так далее"
   ]
  },
  {
   "cell_type": "code",
   "execution_count": 20,
   "metadata": {},
   "outputs": [
    {
     "name": "stdout",
     "output_type": "stream",
     "text": [
      "first\n",
      "third\n",
      "second\n"
     ]
    }
   ],
   "source": [
    "a = ['first', 'second', 'third']\n",
    "print(a[0])\n",
    "print(a[-1])\n",
    "print(a[-2])"
   ]
  },
  {
   "cell_type": "markdown",
   "metadata": {},
   "source": [
    "list() принимает на вход только один аргумент. Этот аргумент должен быть итерируемым (по нему можно пройти циклом for, например, строка)! Из числа сделать список не получится"
   ]
  },
  {
   "cell_type": "code",
   "execution_count": 8,
   "metadata": {},
   "outputs": [
    {
     "ename": "TypeError",
     "evalue": "'int' object is not iterable",
     "output_type": "error",
     "traceback": [
      "\u001b[0;31m---------------------------------------------------------------------------\u001b[0m",
      "\u001b[0;31mTypeError\u001b[0m                                 Traceback (most recent call last)",
      "\u001b[0;32m<ipython-input-8-11a0477006f6>\u001b[0m in \u001b[0;36m<module>\u001b[0;34m\u001b[0m\n\u001b[0;32m----> 1\u001b[0;31m \u001b[0mnumbers\u001b[0m \u001b[0;34m=\u001b[0m \u001b[0mlist\u001b[0m\u001b[0;34m(\u001b[0m\u001b[0;36m123\u001b[0m\u001b[0;34m)\u001b[0m\u001b[0;34m\u001b[0m\u001b[0;34m\u001b[0m\u001b[0m\n\u001b[0m",
      "\u001b[0;31mTypeError\u001b[0m: 'int' object is not iterable"
     ]
    }
   ],
   "source": [
    "numbers = list(123)"
   ]
  },
  {
   "cell_type": "markdown",
   "metadata": {},
   "source": [
    "Список может быть пустым"
   ]
  },
  {
   "cell_type": "code",
   "execution_count": 9,
   "metadata": {},
   "outputs": [
    {
     "name": "stdout",
     "output_type": "stream",
     "text": [
      "[]\n"
     ]
    }
   ],
   "source": [
    "new_list = []\n",
    "print(new_list)"
   ]
  },
  {
   "cell_type": "markdown",
   "metadata": {},
   "source": [
    "**Основные методы list**\n",
    "\n",
    "1. \\+ : простое сложение\n",
    "2. append : добавить элемент в конец\n",
    "3. extend : расширить список (то же, что и +)"
   ]
  },
  {
   "cell_type": "code",
   "execution_count": 11,
   "metadata": {},
   "outputs": [
    {
     "name": "stdout",
     "output_type": "stream",
     "text": [
      "[1, 2, 3, 5]\n",
      "[1, 2, 3, 5, [6, 7, 8]]\n"
     ]
    }
   ],
   "source": [
    "a = [1, 2, 3]\n",
    "a.append(5)\n",
    "print(a)\n",
    "a.append([6,7,8])\n",
    "print(a)"
   ]
  },
  {
   "cell_type": "code",
   "execution_count": 13,
   "metadata": {},
   "outputs": [
    {
     "name": "stdout",
     "output_type": "stream",
     "text": [
      "[1, 2, 3, 6, 7, 8]\n"
     ]
    }
   ],
   "source": [
    "a = [1, 2, 3]\n",
    "a.extend([6,7,8])\n",
    "print(a)"
   ]
  },
  {
   "cell_type": "code",
   "execution_count": 15,
   "metadata": {},
   "outputs": [
    {
     "name": "stdout",
     "output_type": "stream",
     "text": [
      "[1, 2, 3, 7, 8, 9]\n"
     ]
    }
   ],
   "source": [
    "a = [1, 2, 3]\n",
    "a = a + [7, 8, 9]\n",
    "print(a)"
   ]
  },
  {
   "cell_type": "code",
   "execution_count": 16,
   "metadata": {},
   "outputs": [
    {
     "name": "stdout",
     "output_type": "stream",
     "text": [
      "[1, 2, 3, 7, 8, 9]\n"
     ]
    }
   ],
   "source": [
    "# это же можно записать по-другому\n",
    "a = [1, 2, 3]\n",
    "a += [7, 8, 9]\n",
    "print(a)"
   ]
  },
  {
   "cell_type": "markdown",
   "metadata": {},
   "source": [
    "Можно удалить элемент по ключу"
   ]
  },
  {
   "cell_type": "code",
   "execution_count": 21,
   "metadata": {},
   "outputs": [
    {
     "name": "stdout",
     "output_type": "stream",
     "text": [
      "['this', 'is', 'list']\n"
     ]
    }
   ],
   "source": [
    "a = ['this', 'is', 'some', 'list']\n",
    "del a[2]\n",
    "print(a)"
   ]
  },
  {
   "cell_type": "markdown",
   "metadata": {},
   "source": [
    "Срез - это копия части массива. Параметры задаются в квадратных скобках после имени списка"
   ]
  },
  {
   "cell_type": "code",
   "execution_count": 36,
   "metadata": {},
   "outputs": [
    {
     "name": "stdout",
     "output_type": "stream",
     "text": [
      "[50, 60, 70, 80, 90, 100]\n",
      "[10, 20, 30, 40, 50, 60]\n",
      "[50, 60]\n",
      "[30, 50, 70]\n",
      "[90, 80, 70, 60, 50, 40]\n",
      "[100, 90, 80, 70, 60, 50, 40, 30, 20, 10]\n"
     ]
    }
   ],
   "source": [
    "a = [10, 20, 30, 40, 50, 60, 70, 80, 90, 100]\n",
    "print(a[4:])  # элементы, начиная с индекса 4\n",
    "print(a[:6])  # элементы, до индекса 6 (не включительно)\n",
    "print(a[4:6])  # элементы, с индекса 4 по 6 (не включительно)\n",
    "print(a[2:8:2])  # элементы, с индекса 2 по 8 (не включительно) с шагом 2\n",
    "print(a[8:2:-1])  # элементы, с индекса 2 (не включительно) по 8 (включительно) с шагом -1 (в обратном порядке)\n",
    "print(a[::-1])  # элементы в обратном порядке"
   ]
  },
  {
   "cell_type": "markdown",
   "metadata": {},
   "source": [
    "## Кортежи\n",
    "\n",
    "Кортеж (tuple) - это тип неизменяемых данных, если элемент списка можно поменять, то у tuple такой возможности нет"
   ]
  },
  {
   "cell_type": "code",
   "execution_count": 22,
   "metadata": {},
   "outputs": [
    {
     "name": "stdout",
     "output_type": "stream",
     "text": [
      "()\n",
      "('brother', 'sister')\n",
      "('Из', 'этого', 'предложения', 'получится', 'список')\n",
      "('И', 'з', ' ', 'э', 'т', 'о', 'г', 'о', ' ', 'п', 'р', 'е', 'д', 'л', 'о', 'ж', 'е', 'н', 'и', 'я', ' ', 'п', 'о', 'л', 'у', 'ч', 'и', 'т', 'с', 'я', ' ', 'с', 'п', 'и', 'с', 'о', 'к')\n"
     ]
    }
   ],
   "source": [
    "# пустой кортеж\n",
    "new_tuple = ()\n",
    "print(new_tuple)\n",
    "\n",
    "# непустой кортеж\n",
    "siblings = ('brother', 'sister')\n",
    "print(siblings)\n",
    "\n",
    "# кортеж из списка\n",
    "words = tuple(words)\n",
    "print(words)\n",
    "\n",
    "# кортеж из строки\n",
    "letters = tuple(sentence) # строка разбивается на минимальные единицы, т.е. посимвольно\n",
    "print(letters)"
   ]
  },
  {
   "cell_type": "code",
   "execution_count": 23,
   "metadata": {},
   "outputs": [
    {
     "name": "stdout",
     "output_type": "stream",
     "text": [
      "('Из', 'этого', 'предложения', 'получится', 'список', 'brother', 'sister')\n",
      "('brother', 'sister', 'brother', 'sister', 'brother', 'sister')\n"
     ]
    }
   ],
   "source": [
    "words += siblings # прибавляем siblings к words и записываем результат в words\n",
    "print(words)\n",
    "\n",
    "big_family = siblings * 3\n",
    "print(big_family)"
   ]
  },
  {
   "cell_type": "code",
   "execution_count": 24,
   "metadata": {},
   "outputs": [
    {
     "name": "stdout",
     "output_type": "stream",
     "text": [
      "Из\n",
      "sister\n",
      "('предложения', 'получится', 'список')\n"
     ]
    }
   ],
   "source": [
    "print(words[0])   # первый элемент кортежа\n",
    "print(words[-1])  # последний элемент кортежа\n",
    "print(words[2:5]) # элементы кортежа со 2 по 5 (включая 2 и не включая 5)"
   ]
  },
  {
   "cell_type": "markdown",
   "metadata": {},
   "source": [
    "## Множества\n",
    "\n",
    "Множество (set) - это структура данных, чем-то похожая и на массив, и на словарь, но от них отличающаяся.\n",
    "\n",
    "Как и массивы, множества содержат элементы. Но в отличие от массивов, где элементы упорядочены, в множестве они идут в \"произвольном\" порядке.\n",
    "\n",
    "На словари множества похожи тем, что, как и ключи в словарях, элементы множеств неупорядочены и поэтому должны быть уникальны.\n",
    "\n",
    "Поиск в множестве происходит быстрее, чем в массиве. Если вам нужно собрать какие-то данные, а потом проверять, есть ли в этих данных что-то, то целесообразно использовать именно множества. Во-вторых, преобразование в множества помогают быстро превратить набор данных в набор уникальных элементов."
   ]
  },
  {
   "cell_type": "code",
   "execution_count": 38,
   "metadata": {},
   "outputs": [
    {
     "name": "stdout",
     "output_type": "stream",
     "text": [
      "{'the', 'on', 'is', 'mat', 'cat'}\n",
      "{'dog', 'crocodile', 'fox', 'elephant', 'cat'}\n"
     ]
    }
   ],
   "source": [
    "# создаем множество из списка (массива)\n",
    "\n",
    "sentence = \"the cat is on the mat\"\n",
    "words = set(sentence.split())  # превращаем список, который возвращает split(), в массив\n",
    "animals = set(['cat', 'dog', 'elephant', 'crocodile', 'fox', 'cat', 'elephant'])\n",
    "\n",
    "print(words)\n",
    "print(animals)"
   ]
  },
  {
   "cell_type": "code",
   "execution_count": 39,
   "metadata": {},
   "outputs": [
    {
     "name": "stdout",
     "output_type": "stream",
     "text": [
      "{'s', 'o', 'h', 't', 'i', 'e', 'n', 'a', 'm', 'c', ' '}\n"
     ]
    }
   ],
   "source": [
    "# создаем множество из строки\n",
    "\n",
    "letters = set(sentence)  # разбивает строку на минимальные элементы, т.е. посимвольно\n",
    "print(letters)"
   ]
  },
  {
   "cell_type": "markdown",
   "metadata": {},
   "source": [
    "Обратите внимание, что все элементы получившихся множеств уникальны! Если вам нужно избавиться от повторов в данных, то самое простое решение -- это превратить их в множество.\n",
    "\n",
    "Множества нельзя складывать, зато можно добавлять в них элементы -- это делается функцией add(), которая тоже пишется через точку после названия множества."
   ]
  },
  {
   "cell_type": "code",
   "execution_count": 40,
   "metadata": {},
   "outputs": [
    {
     "name": "stdout",
     "output_type": "stream",
     "text": [
      "{'dog', 'crocodile', 'fox', 'elephant', 'tiger', 'cat'}\n"
     ]
    }
   ],
   "source": [
    "animals.add('tiger')\n",
    "print(animals)"
   ]
  },
  {
   "cell_type": "code",
   "execution_count": 41,
   "metadata": {},
   "outputs": [
    {
     "name": "stdout",
     "output_type": "stream",
     "text": [
      "set()\n"
     ]
    }
   ],
   "source": [
    "# пустое множество\n",
    "new_set = set() # обратите внимание, что просто скобочек в данном случае недостаточно!\n",
    "print(new_set)"
   ]
  },
  {
   "cell_type": "code",
   "execution_count": 42,
   "metadata": {},
   "outputs": [
    {
     "name": "stdout",
     "output_type": "stream",
     "text": [
      "{1, 2, 3, 4, 5, 6, 7, 8, 9}\n",
      "{4, 5, 6}\n",
      "{1, 2, 3}\n",
      "{1, 2, 3, 7, 8, 9}\n"
     ]
    }
   ],
   "source": [
    "a = set([1, 2, 3, 4, 5, 6])\n",
    "b = set([4, 5, 6, 7, 8, 9])\n",
    "\n",
    "# объединение\n",
    "c = a | b\n",
    "print(c)\n",
    "\n",
    "# пересечение\n",
    "c = a & b\n",
    "print(c)\n",
    "\n",
    "# разность\n",
    "c = a - b\n",
    "print(c)\n",
    "\n",
    "# симметрическая разность, то есть элементы, входящие в a или в b, но не в оба множества одновременно\n",
    "c = a ^ b\n",
    "print(c)"
   ]
  },
  {
   "cell_type": "markdown",
   "metadata": {},
   "source": [
    "**Основные функции**\n",
    "\n",
    "1. sum"
   ]
  }
 ],
 "metadata": {
  "kernelspec": {
   "display_name": "Python 3",
   "language": "python",
   "name": "python3"
  },
  "language_info": {
   "codemirror_mode": {
    "name": "ipython",
    "version": 3
   },
   "file_extension": ".py",
   "mimetype": "text/x-python",
   "name": "python",
   "nbconvert_exporter": "python",
   "pygments_lexer": "ipython3",
   "version": "3.6.8"
  }
 },
 "nbformat": 4,
 "nbformat_minor": 2
}
